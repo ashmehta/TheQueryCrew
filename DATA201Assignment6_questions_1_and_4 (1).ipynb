{
 "cells": [
  {
   "cell_type": "code",
   "execution_count": 1,
   "id": "f25359f5",
   "metadata": {},
   "outputs": [
    {
     "name": "stdout",
     "output_type": "stream",
     "text": [
      "Connected to the MySQL database!\n"
     ]
    }
   ],
   "source": [
    "import sqlite3\n",
    "import mysql.connector\n",
    "import pandas as pd\n",
    "from mysql.connector import MySQLConnection, Error\n",
    "\n",
    "# Function to connect to MySQL database\n",
    "def make_connection():\n",
    "    try:\n",
    "        conn = MySQLConnection(\n",
    "            host='IES-ADS-ClassDB.sjsu.edu',\n",
    "            database='querycrew_db',\n",
    "            user='querycrew_user',\n",
    "            password='Pomegranate_746'\n",
    "        )\n",
    "        \n",
    "        if conn.is_connected():\n",
    "            print('Connected to the MySQL database!')\n",
    "            return conn\n",
    "                \n",
    "    except Error as e:\n",
    "        print('Connection failed:', e)\n",
    "        return None\n",
    "\n",
    "# Establish database connection\n",
    "conn = make_connection()\n",
    "if conn is None:\n",
    "    print(\"Database connection failed. Exiting...\")\n",
    "    exit()\n",
    "cursor = conn.cursor()"
   ]
  },
  {
   "cell_type": "code",
   "execution_count": 2,
   "id": "abebdf25",
   "metadata": {},
   "outputs": [
    {
     "name": "stdout",
     "output_type": "stream",
     "text": [
      "Vehicle table created successfully.\n",
      "vehicle_transformed table created successfully.\n",
      "Data inserted into vehicle_transformed with price categories.\n",
      "\n",
      "Vehicle Table:\n",
      "                 vin  model_year base_msrp        make    model\n",
      "0  1HGCM82633A123456        2022  25000.00      Toyota  Corolla\n",
      "1  1HGCM82633A654321        2021  35000.00       Honda    Civic\n",
      "2  2FMDK49C59B123456        2020  28000.00        Ford   Escape\n",
      "3  3VW2K7AJ5JM123456        2019  18000.00  Volkswagen    Jetta\n",
      "4  4T1BE46K67U123456        2021  45000.00       Lexus   RX 350\n",
      "5  5YJSA1E26HF123456        2023  60000.00       Tesla  Model S\n",
      "\n",
      "Vehicle_Transformed Table:\n",
      "                 vin  model_year base_msrp        make    model price_category\n",
      "0  1HGCM82633A123456        2022  25000.00      Toyota  Corolla            Low\n",
      "1  1HGCM82633A654321        2021  35000.00       Honda    Civic            Mid\n",
      "2  2FMDK49C59B123456        2020  28000.00        Ford   Escape            Low\n",
      "3  3VW2K7AJ5JM123456        2019  18000.00  Volkswagen    Jetta            Low\n",
      "4  4T1BE46K67U123456        2021  45000.00       Lexus   RX 350            Mid\n",
      "5  5YJSA1E26HF123456        2023  60000.00       Tesla  Model S           High\n"
     ]
    }
   ],
   "source": [
    "# 1. INSERT INTO SELECT with CASE\n",
    "\n",
    "# Create vehicle table\n",
    "cursor.execute('''\n",
    "CREATE TABLE IF NOT EXISTS vehicle (\n",
    "    vin VARCHAR(17) NOT NULL PRIMARY KEY,\n",
    "    model_year INT NOT NULL,\n",
    "    base_msrp DECIMAL(10, 2),\n",
    "    make VARCHAR(100) NOT NULL,\n",
    "    model VARCHAR(100) NOT NULL\n",
    ");\n",
    "''')\n",
    "conn.commit()\n",
    "print(\"Vehicle table created successfully.\")\n",
    "\n",
    "# Insert sample data\n",
    "cursor.execute('''\n",
    "INSERT INTO vehicle (vin, model_year, base_msrp, make, model)\n",
    "VALUES \n",
    "    ('1HGCM82633A123456', 2022, 25000.00, 'Toyota', 'Corolla'),\n",
    "    ('1HGCM82633A654321', 2021, 35000.00, 'Honda', 'Civic'),\n",
    "    ('5YJSA1E26HF123456', 2023, 60000.00, 'Tesla', 'Model S'),\n",
    "    ('2FMDK49C59B123456', 2020, 28000.00, 'Ford', 'Escape'),\n",
    "    ('3VW2K7AJ5JM123456', 2019, 18000.00, 'Volkswagen', 'Jetta'),\n",
    "    ('4T1BE46K67U123456', 2021, 45000.00, 'Lexus', 'RX 350')\n",
    "ON DUPLICATE KEY UPDATE model_year = VALUES(model_year);\n",
    "''')\n",
    "conn.commit()\n",
    "\n",
    "# Drop vehicle_transformed table if exists\n",
    "cursor.execute(\"DROP TABLE IF EXISTS vehicle_transformed;\")\n",
    "conn.commit()\n",
    "\n",
    "# Create vehicle_transformed table\n",
    "cursor.execute('''\n",
    "CREATE TABLE vehicle_transformed (\n",
    "    vin VARCHAR(17) NOT NULL PRIMARY KEY,\n",
    "    model_year INT NOT NULL,\n",
    "    base_msrp DECIMAL(10, 2),\n",
    "    make VARCHAR(100) NOT NULL,\n",
    "    model VARCHAR(100) NOT NULL,\n",
    "    price_category VARCHAR(20),\n",
    "    CONSTRAINT fk_vehicle_vin FOREIGN KEY (vin) REFERENCES vehicle(vin) ON DELETE CASCADE\n",
    ");\n",
    "''')\n",
    "conn.commit()\n",
    "print(\"vehicle_transformed table created successfully.\")\n",
    "\n",
    "# INSERT INTO vehicle_transformed using SELECT WITH CASE\n",
    "cursor.execute('''\n",
    "INSERT INTO vehicle_transformed (vin, model_year, base_msrp, make, model, price_category)\n",
    "SELECT \n",
    "    vin,\n",
    "    model_year,\n",
    "    base_msrp,\n",
    "    make,\n",
    "    model,\n",
    "    CASE \n",
    "        WHEN base_msrp < 30000 THEN 'Low'\n",
    "        WHEN base_msrp BETWEEN 30000 AND 50000 THEN 'Mid'\n",
    "        ELSE 'High'\n",
    "    END AS price_category\n",
    "FROM vehicle;\n",
    "''')\n",
    "conn.commit()\n",
    "print(\"Data inserted into vehicle_transformed with price categories.\")\n",
    "\n",
    "# Fetch and display vehicle table\n",
    "cursor.execute(\"SELECT * FROM vehicle;\")\n",
    "columns_vehicle = [desc[0] for desc in cursor.description]  # Extract column names\n",
    "data_vehicle = cursor.fetchall()\n",
    "df_vehicle = pd.DataFrame(data_vehicle, columns=columns_vehicle)\n",
    "\n",
    "print(\"\\nVehicle Table:\")\n",
    "print(df_vehicle)\n",
    "\n",
    "# Fetch and display vehicle_transformed table\n",
    "cursor.execute(\"SELECT * FROM vehicle_transformed;\")\n",
    "columns_transformed = [desc[0] for desc in cursor.description]  # Extract column names\n",
    "data_transformed = cursor.fetchall()\n",
    "df_vehicle_transformed = pd.DataFrame(data_transformed, columns=columns_transformed)\n",
    "\n",
    "print(\"\\nVehicle_Transformed Table:\")\n",
    "print(df_vehicle_transformed)"
   ]
  },
  {
   "cell_type": "code",
   "execution_count": 3,
   "id": "66b64ca0",
   "metadata": {},
   "outputs": [
    {
     "name": "stdout",
     "output_type": "stream",
     "text": [
      "\n",
      "Vehicles with Base MSRP Higher Than Average:\n",
      "                 vin  model_year base_msrp   make    model\n",
      "0  4T1BE46K67U123456        2021  45000.00  Lexus   RX 350\n",
      "1  5YJSA1E26HF123456        2023  60000.00  Tesla  Model S\n"
     ]
    }
   ],
   "source": [
    "# 4. Nested query\n",
    "nested_query = '''\n",
    "SELECT vin, model_year, base_msrp, make, model\n",
    "FROM vehicle\n",
    "WHERE base_msrp > (\n",
    "    SELECT AVG(base_msrp) FROM vehicle\n",
    ");\n",
    "'''\n",
    "\n",
    "# Execute the query\n",
    "cursor.execute(nested_query)\n",
    "columns = [desc[0] for desc in cursor.description]  # Extract column names\n",
    "data = cursor.fetchall()\n",
    "\n",
    "# Convert to DataFrame\n",
    "df_nested_query = pd.DataFrame(data, columns=columns)\n",
    "\n",
    "# Display DataFrame\n",
    "print(\"\\nVehicles with Base MSRP Higher Than Average:\")\n",
    "print(df_nested_query)"
   ]
  },
  {
   "cell_type": "markdown",
   "id": "59d531cf",
   "metadata": {},
   "source": [
    "4.\n",
    "A nested query is used when one query relies on the result of another query. In this case, the query finds all vehicles with a base MSRP higher than the average MSRP of all vehicles in the table which effectively filters out the lower-priced vehicles."
   ]
  },
  {
   "cell_type": "code",
   "execution_count": 4,
   "id": "b35caf46",
   "metadata": {},
   "outputs": [],
   "source": [
    "# Close the connection\n",
    "cursor.close()\n",
    "conn.close()"
   ]
  }
 ],
 "metadata": {
  "kernelspec": {
   "display_name": "Python 3 (ipykernel)",
   "language": "python",
   "name": "python3"
  },
  "language_info": {
   "codemirror_mode": {
    "name": "ipython",
    "version": 3
   },
   "file_extension": ".py",
   "mimetype": "text/x-python",
   "name": "python",
   "nbconvert_exporter": "python",
   "pygments_lexer": "ipython3",
   "version": "3.9.13"
  }
 },
 "nbformat": 4,
 "nbformat_minor": 5
}
