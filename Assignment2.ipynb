{
 "cells": [
  {
   "cell_type": "code",
   "execution_count": 3,
   "id": "2ed52f90-a52d-4f51-bc70-8e669a803344",
   "metadata": {},
   "outputs": [],
   "source": [
    "import csv\n",
    "import pandas as pd"
   ]
  },
  {
   "cell_type": "code",
   "execution_count": null,
   "id": "d520c025-5986-47d4-916c-222c982a0d96",
   "metadata": {},
   "outputs": [],
   "source": []
  },
  {
   "cell_type": "code",
   "execution_count": 6,
   "id": "6aea837c-b376-456c-80c9-94d9ad3489ef",
   "metadata": {},
   "outputs": [],
   "source": [
    "from mysql.connector import MySQLConnection, Error"
   ]
  },
  {
   "cell_type": "code",
   "execution_count": 8,
   "id": "f07d7d8e-9b26-4643-8a16-68b4c5740238",
   "metadata": {},
   "outputs": [],
   "source": [
    "#Making connection to SQL server\n",
    "def make_connection():\n",
    "    try:\n",
    "        conn = MySQLConnection(host='IES-ADS-ClassDB.sjsu.edu',\n",
    "                               database='querycrew_db',\n",
    "                               user='querycrew_user',\n",
    "                               password='Pomegranate_746')\n",
    "        \n",
    "        if conn.is_connected():\n",
    "            print('Connected to the MySQL database!')\n",
    "            \n",
    "            return conn\n",
    "                \n",
    "    except Error as e:\n",
    "        print('Connection failed.')\n",
    "        print(e)\n",
    "        \n",
    "        return None"
   ]
  },
  {
   "cell_type": "code",
   "execution_count": 10,
   "id": "a6128ed3-19c9-4ad5-b3f5-120cea023903",
   "metadata": {},
   "outputs": [
    {
     "name": "stdout",
     "output_type": "stream",
     "text": [
      "Connected to the MySQL database!\n"
     ]
    }
   ],
   "source": [
    "conn = make_connection()\n",
    "cursor = conn.cursor()"
   ]
  },
  {
   "cell_type": "code",
   "execution_count": null,
   "id": "9da31c93-1a20-4876-9d95-f21cd901b0c4",
   "metadata": {},
   "outputs": [],
   "source": [
    "cursor.execute('DROP TABLE IF EXISTS location')"
   ]
  },
  {
   "cell_type": "code",
   "execution_count": 161,
   "id": "182bc13a-2120-4c40-ab79-36b68318a90a",
   "metadata": {},
   "outputs": [],
   "source": [
    "cursor.execute('DROP TABLE IF EXISTS vehicle')"
   ]
  },
  {
   "cell_type": "code",
   "execution_count": 162,
   "id": "fce90e6a-7da2-4bc8-bd11-413bdec2a479",
   "metadata": {},
   "outputs": [],
   "source": [
    "#This is for the one-to-one tables. The primary key is VIN(1-10) \n",
    "#Creating a vehicle table\n",
    "\n",
    "sql = ( \"\"\"\n",
    "        CREATE TABLE vehicle\n",
    "        (\n",
    "            vin varchar(32),\n",
    "            make varchar(32),\n",
    "            model varchar(32),\n",
    "            model_year int,\n",
    "            PRIMARY KEY(vin)\n",
    "        )\n",
    "        \"\"\"\n",
    "      )\n",
    "cursor.execute(sql)"
   ]
  },
  {
   "cell_type": "code",
   "execution_count": 163,
   "id": "bb1348c5-e761-428d-9743-ff72be2e90b7",
   "metadata": {},
   "outputs": [],
   "source": [
    "#FIGURE OUT A PRIMARY KEY FOR THIS TABLE\n",
    "sql = ( \"\"\"\n",
    "        CREATE TABLE location\n",
    "        (\n",
    "            dol_id int,\n",
    "            vin varchar(20),\n",
    "            county varchar(32),\n",
    "            city varchar(32),\n",
    "            state varchar(32),\n",
    "            zip_code int,\n",
    "            PRIMARY KEY(dol_id),\n",
    "            FOREIGN KEY (vin) REFERENCES vehicle(vin)\n",
    "        )\n",
    "        \"\"\"\n",
    "      )\n",
    "\n",
    "cursor.execute(sql);"
   ]
  },
  {
   "cell_type": "code",
   "execution_count": null,
   "id": "0c788b6c-27c1-4c32-b318-fdc905d9628d",
   "metadata": {
    "scrolled": true
   },
   "outputs": [],
   "source": []
  },
  {
   "cell_type": "code",
   "execution_count": null,
   "id": "24fe6286-cf13-4406-afa9-8fd3e8707eaa",
   "metadata": {},
   "outputs": [],
   "source": []
  },
  {
   "cell_type": "code",
   "execution_count": 164,
   "id": "bb653b9a-98bb-4b4b-907b-b56b2033913b",
   "metadata": {},
   "outputs": [],
   "source": [
    "#For both of these two tables created, the primary key is the vin, and the foriegn key is in the location table and it is the vin as well"
   ]
  },
  {
   "cell_type": "code",
   "execution_count": null,
   "id": "e1dc5f42-21eb-4ef3-9589-a3083c9ffdf3",
   "metadata": {},
   "outputs": [],
   "source": []
  },
  {
   "cell_type": "code",
   "execution_count": null,
   "id": "273ccd0a-79a6-43d5-abaf-3e2156767570",
   "metadata": {},
   "outputs": [],
   "source": []
  },
  {
