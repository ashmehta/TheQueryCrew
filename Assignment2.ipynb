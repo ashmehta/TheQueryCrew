{
 "cells": [
  {
   "cell_type": "code",
   "execution_count": 16,
   "id": "2ed52f90-a52d-4f51-bc70-8e669a803344",
   "metadata": {},
   "outputs": [],
   "source": [
    "import csv\n",
    "import pandas as pd"
   ]
  },
  {
   "cell_type": "code",
   "execution_count": null,
   "id": "d520c025-5986-47d4-916c-222c982a0d96",
   "metadata": {},
   "outputs": [],
   "source": []
  },
  {
   "cell_type": "code",
   "execution_count": 19,
   "id": "6aea837c-b376-456c-80c9-94d9ad3489ef",
   "metadata": {},
   "outputs": [],
   "source": [
    "from mysql.connector import MySQLConnection, Error"
   ]
  },
  {
   "cell_type": "code",
   "execution_count": 21,
   "id": "f07d7d8e-9b26-4643-8a16-68b4c5740238",
   "metadata": {},
   "outputs": [],
   "source": [
    "#Making connection to SQL server\n",
    "def make_connection():\n",
    "    try:\n",
    "        conn = MySQLConnection(host='IES-ADS-ClassDB.sjsu.edu',\n",
    "                               database='querycrew_db',\n",
    "                               user='querycrew_user',\n",
    "                               password='Pomegranate_746')\n",
    "        \n",
    "        if conn.is_connected():\n",
    "            print('Connected to the MySQL database!')\n",
    "            \n",
    "            return conn\n",
    "                \n",
    "    except Error as e:\n",
    "        print('Connection failed.')\n",
    "        print(e)\n",
    "        \n",
    "        return None"
   ]
  },
  {
   "cell_type": "code",
   "execution_count": 23,
   "id": "a6128ed3-19c9-4ad5-b3f5-120cea023903",
   "metadata": {},
   "outputs": [
    {
     "name": "stdout",
     "output_type": "stream",
     "text": [
      "Connected to the MySQL database!\n"
     ]
    }
   ],
   "source": [
    "conn = make_connection()\n",
    "cursor = conn.cursor()\n",
    "#Up to here code runs smooth"
   ]
  },
  {
   "cell_type": "code",
   "execution_count": null,
   "id": "9da31c93-1a20-4876-9d95-f21cd901b0c4",
   "metadata": {},
   "outputs": [],
   "source": [
    "#what happened is my code was running fine, however, when I got to this part of the \n",
    "#CREATING LOCATION TABLE\n",
    "cursor.execute('DROP TABLE IF EXISTS location')"
   ]
  },
  {
   "cell_type": "code",
   "execution_count": null,
   "id": "182bc13a-2120-4c40-ab79-36b68318a90a",
   "metadata": {},
   "outputs": [],
   "source": [
    "cursor.execute('DROP TABLE IF EXISTS vehicle')"
   ]
  },
  {
   "cell_type": "code",
   "execution_count": 14,
   "id": "fce90e6a-7da2-4bc8-bd11-413bdec2a479",
   "metadata": {},
   "outputs": [
    {
     "ename": "KeyboardInterrupt",
     "evalue": "",
     "output_type": "error",
     "traceback": [
      "\u001b[0;31m---------------------------------------------------------------------------\u001b[0m",
      "\u001b[0;31mKeyboardInterrupt\u001b[0m                         Traceback (most recent call last)",
      "Cell \u001b[0;32mIn[14], line 15\u001b[0m\n\u001b[1;32m      1\u001b[0m \u001b[38;5;66;03m#This is for the one-to-one tables. The primary key is VIN(1-10) \u001b[39;00m\n\u001b[1;32m      2\u001b[0m \u001b[38;5;66;03m#CREATING VEHICLE TABLE\u001b[39;00m\n\u001b[1;32m      4\u001b[0m sql \u001b[38;5;241m=\u001b[39m ( \u001b[38;5;124m\"\"\"\u001b[39m\n\u001b[1;32m      5\u001b[0m \u001b[38;5;124m        CREATE TABLE vehicle\u001b[39m\n\u001b[1;32m      6\u001b[0m \u001b[38;5;124m        (\u001b[39m\n\u001b[0;32m   (...)\u001b[0m\n\u001b[1;32m     13\u001b[0m \u001b[38;5;124m        \u001b[39m\u001b[38;5;124m\"\"\"\u001b[39m\n\u001b[1;32m     14\u001b[0m       )\n\u001b[0;32m---> 15\u001b[0m cursor\u001b[38;5;241m.\u001b[39mexecute(sql)\n",
      "File \u001b[0;32m/opt/anaconda3/lib/python3.12/site-packages/mysql/connector/cursor.py:416\u001b[0m, in \u001b[0;36mMySQLCursor.execute\u001b[0;34m(self, operation, params, map_results)\u001b[0m\n\u001b[1;32m    408\u001b[0m \u001b[38;5;28mself\u001b[39m\u001b[38;5;241m.\u001b[39m_executed_list \u001b[38;5;241m=\u001b[39m \u001b[38;5;28mself\u001b[39m\u001b[38;5;241m.\u001b[39m_stmt_partition[\u001b[38;5;124m\"\u001b[39m\u001b[38;5;124msingle_stmts\u001b[39m\u001b[38;5;124m\"\u001b[39m]\n\u001b[1;32m    409\u001b[0m \u001b[38;5;28mself\u001b[39m\u001b[38;5;241m.\u001b[39m_executed \u001b[38;5;241m=\u001b[39m (\n\u001b[1;32m    410\u001b[0m     \u001b[38;5;28mself\u001b[39m\u001b[38;5;241m.\u001b[39m_stmt_partition[\u001b[38;5;124m\"\u001b[39m\u001b[38;5;124msingle_stmts\u001b[39m\u001b[38;5;124m\"\u001b[39m]\u001b[38;5;241m.\u001b[39mpopleft()\n\u001b[1;32m    411\u001b[0m     \u001b[38;5;28;01mif\u001b[39;00m map_results\n\u001b[1;32m    412\u001b[0m     \u001b[38;5;28;01melse\u001b[39;00m \u001b[38;5;28mself\u001b[39m\u001b[38;5;241m.\u001b[39m_stmt_partition[\u001b[38;5;124m\"\u001b[39m\u001b[38;5;124mmappable_stmt\u001b[39m\u001b[38;5;124m\"\u001b[39m]\n\u001b[1;32m    413\u001b[0m )\n\u001b[1;32m    415\u001b[0m \u001b[38;5;28mself\u001b[39m\u001b[38;5;241m.\u001b[39m_handle_result(\n\u001b[0;32m--> 416\u001b[0m     \u001b[38;5;28mself\u001b[39m\u001b[38;5;241m.\u001b[39m_connection\u001b[38;5;241m.\u001b[39mcmd_query(\n\u001b[1;32m    417\u001b[0m         \u001b[38;5;28mself\u001b[39m\u001b[38;5;241m.\u001b[39m_stmt_partition[\u001b[38;5;124m\"\u001b[39m\u001b[38;5;124mmappable_stmt\u001b[39m\u001b[38;5;124m\"\u001b[39m],\n\u001b[1;32m    418\u001b[0m         read_timeout\u001b[38;5;241m=\u001b[39m\u001b[38;5;28mself\u001b[39m\u001b[38;5;241m.\u001b[39m_read_timeout,\n\u001b[1;32m    419\u001b[0m         write_timeout\u001b[38;5;241m=\u001b[39m\u001b[38;5;28mself\u001b[39m\u001b[38;5;241m.\u001b[39m_write_timeout,\n\u001b[1;32m    420\u001b[0m     )\n\u001b[1;32m    421\u001b[0m )\n\u001b[1;32m    423\u001b[0m \u001b[38;5;28;01mreturn\u001b[39;00m \u001b[38;5;28;01mNone\u001b[39;00m\n",
      "File \u001b[0;32m/opt/anaconda3/lib/python3.12/site-packages/mysql/connector/opentelemetry/context_propagation.py:97\u001b[0m, in \u001b[0;36mwith_context_propagation.<locals>.wrapper\u001b[0;34m(cnx, *args, **kwargs)\u001b[0m\n\u001b[1;32m     95\u001b[0m \u001b[38;5;66;03m# pylint: disable=possibly-used-before-assignment\u001b[39;00m\n\u001b[1;32m     96\u001b[0m \u001b[38;5;28;01mif\u001b[39;00m \u001b[38;5;129;01mnot\u001b[39;00m OTEL_ENABLED \u001b[38;5;129;01mor\u001b[39;00m \u001b[38;5;129;01mnot\u001b[39;00m cnx\u001b[38;5;241m.\u001b[39motel_context_propagation:\n\u001b[0;32m---> 97\u001b[0m     \u001b[38;5;28;01mreturn\u001b[39;00m method(cnx, \u001b[38;5;241m*\u001b[39margs, \u001b[38;5;241m*\u001b[39m\u001b[38;5;241m*\u001b[39mkwargs)\n\u001b[1;32m     99\u001b[0m current_span \u001b[38;5;241m=\u001b[39m trace\u001b[38;5;241m.\u001b[39mget_current_span()\n\u001b[1;32m    100\u001b[0m tp_header \u001b[38;5;241m=\u001b[39m \u001b[38;5;28;01mNone\u001b[39;00m\n",
      "File \u001b[0;32m/opt/anaconda3/lib/python3.12/site-packages/mysql/connector/utils.py:738\u001b[0m, in \u001b[0;36mhandle_read_write_timeout.<locals>.decorator.<locals>.handle_cnx_method\u001b[0;34m(cnx, *args, **kwargs)\u001b[0m\n\u001b[1;32m    733\u001b[0m \u001b[38;5;129m@functools\u001b[39m\u001b[38;5;241m.\u001b[39mwraps(cnx_method)\n\u001b[1;32m    734\u001b[0m \u001b[38;5;28;01mdef\u001b[39;00m \u001b[38;5;21mhandle_cnx_method\u001b[39m(\n\u001b[1;32m    735\u001b[0m     cnx: \u001b[38;5;124m\"\u001b[39m\u001b[38;5;124mMySQLConnectionAbstract\u001b[39m\u001b[38;5;124m\"\u001b[39m, \u001b[38;5;241m*\u001b[39margs: Any, \u001b[38;5;241m*\u001b[39m\u001b[38;5;241m*\u001b[39mkwargs: Any\n\u001b[1;32m    736\u001b[0m ) \u001b[38;5;241m-\u001b[39m\u001b[38;5;241m>\u001b[39m Any:\n\u001b[1;32m    737\u001b[0m     \u001b[38;5;28;01mtry\u001b[39;00m:\n\u001b[0;32m--> 738\u001b[0m         \u001b[38;5;28;01mreturn\u001b[39;00m cnx_method(cnx, \u001b[38;5;241m*\u001b[39margs, \u001b[38;5;241m*\u001b[39m\u001b[38;5;241m*\u001b[39mkwargs)\n\u001b[1;32m    739\u001b[0m     \u001b[38;5;28;01mexcept\u001b[39;00m \u001b[38;5;167;01mException\u001b[39;00m \u001b[38;5;28;01mas\u001b[39;00m err:\n\u001b[1;32m    740\u001b[0m         \u001b[38;5;28;01mif\u001b[39;00m \u001b[38;5;28misinstance\u001b[39m(err, \u001b[38;5;167;01mTimeoutError\u001b[39;00m):\n",
      "File \u001b[0;32m/opt/anaconda3/lib/python3.12/site-packages/mysql/connector/connection.py:938\u001b[0m, in \u001b[0;36mMySQLConnection.cmd_query\u001b[0;34m(self, query, raw, buffered, raw_as_string, **kwargs)\u001b[0m\n\u001b[1;32m    934\u001b[0m     read_timeout \u001b[38;5;241m=\u001b[39m kwargs\u001b[38;5;241m.\u001b[39mget(\u001b[38;5;124m\"\u001b[39m\u001b[38;5;124mread_timeout\u001b[39m\u001b[38;5;124m\"\u001b[39m, \u001b[38;5;28;01mNone\u001b[39;00m)\n\u001b[1;32m    935\u001b[0m     write_timeout \u001b[38;5;241m=\u001b[39m kwargs\u001b[38;5;241m.\u001b[39mget(\u001b[38;5;124m\"\u001b[39m\u001b[38;5;124mwrite_timeout\u001b[39m\u001b[38;5;124m\"\u001b[39m, \u001b[38;5;28;01mNone\u001b[39;00m)\n\u001b[1;32m    937\u001b[0m     result \u001b[38;5;241m=\u001b[39m \u001b[38;5;28mself\u001b[39m\u001b[38;5;241m.\u001b[39m_handle_result(\n\u001b[0;32m--> 938\u001b[0m         \u001b[38;5;28mself\u001b[39m\u001b[38;5;241m.\u001b[39m_send_cmd(\n\u001b[1;32m    939\u001b[0m             ServerCmd\u001b[38;5;241m.\u001b[39mQUERY,\n\u001b[1;32m    940\u001b[0m             query,\n\u001b[1;32m    941\u001b[0m             read_timeout\u001b[38;5;241m=\u001b[39mread_timeout,\n\u001b[1;32m    942\u001b[0m             write_timeout\u001b[38;5;241m=\u001b[39mwrite_timeout,\n\u001b[1;32m    943\u001b[0m         ),\n\u001b[1;32m    944\u001b[0m         read_timeout,\n\u001b[1;32m    945\u001b[0m         write_timeout,\n\u001b[1;32m    946\u001b[0m     )\n\u001b[1;32m    947\u001b[0m \u001b[38;5;28;01mexcept\u001b[39;00m ProgrammingError \u001b[38;5;28;01mas\u001b[39;00m err:\n\u001b[1;32m    948\u001b[0m     \u001b[38;5;28;01mif\u001b[39;00m err\u001b[38;5;241m.\u001b[39merrno \u001b[38;5;241m==\u001b[39m \u001b[38;5;241m3948\u001b[39m \u001b[38;5;129;01mand\u001b[39;00m \u001b[38;5;124m\"\u001b[39m\u001b[38;5;124mLoading local data is disabled\u001b[39m\u001b[38;5;124m\"\u001b[39m \u001b[38;5;129;01min\u001b[39;00m err\u001b[38;5;241m.\u001b[39mmsg:\n",
      "File \u001b[0;32m/opt/anaconda3/lib/python3.12/site-packages/mysql/connector/utils.py:738\u001b[0m, in \u001b[0;36mhandle_read_write_timeout.<locals>.decorator.<locals>.handle_cnx_method\u001b[0;34m(cnx, *args, **kwargs)\u001b[0m\n\u001b[1;32m    733\u001b[0m \u001b[38;5;129m@functools\u001b[39m\u001b[38;5;241m.\u001b[39mwraps(cnx_method)\n\u001b[1;32m    734\u001b[0m \u001b[38;5;28;01mdef\u001b[39;00m \u001b[38;5;21mhandle_cnx_method\u001b[39m(\n\u001b[1;32m    735\u001b[0m     cnx: \u001b[38;5;124m\"\u001b[39m\u001b[38;5;124mMySQLConnectionAbstract\u001b[39m\u001b[38;5;124m\"\u001b[39m, \u001b[38;5;241m*\u001b[39margs: Any, \u001b[38;5;241m*\u001b[39m\u001b[38;5;241m*\u001b[39mkwargs: Any\n\u001b[1;32m    736\u001b[0m ) \u001b[38;5;241m-\u001b[39m\u001b[38;5;241m>\u001b[39m Any:\n\u001b[1;32m    737\u001b[0m     \u001b[38;5;28;01mtry\u001b[39;00m:\n\u001b[0;32m--> 738\u001b[0m         \u001b[38;5;28;01mreturn\u001b[39;00m cnx_method(cnx, \u001b[38;5;241m*\u001b[39margs, \u001b[38;5;241m*\u001b[39m\u001b[38;5;241m*\u001b[39mkwargs)\n\u001b[1;32m    739\u001b[0m     \u001b[38;5;28;01mexcept\u001b[39;00m \u001b[38;5;167;01mException\u001b[39;00m \u001b[38;5;28;01mas\u001b[39;00m err:\n\u001b[1;32m    740\u001b[0m         \u001b[38;5;28;01mif\u001b[39;00m \u001b[38;5;28misinstance\u001b[39m(err, \u001b[38;5;167;01mTimeoutError\u001b[39;00m):\n",
      "File \u001b[0;32m/opt/anaconda3/lib/python3.12/site-packages/mysql/connector/connection.py:514\u001b[0m, in \u001b[0;36mMySQLConnection._send_cmd\u001b[0;34m(self, command, argument, packet_number, packet, expect_response, compressed_packet_number, read_timeout, write_timeout)\u001b[0m\n\u001b[1;32m    506\u001b[0m \u001b[38;5;28;01mtry\u001b[39;00m:\n\u001b[1;32m    507\u001b[0m     \u001b[38;5;28mself\u001b[39m\u001b[38;5;241m.\u001b[39m_socket\u001b[38;5;241m.\u001b[39msend(\n\u001b[1;32m    508\u001b[0m         \u001b[38;5;28mself\u001b[39m\u001b[38;5;241m.\u001b[39m_protocol\u001b[38;5;241m.\u001b[39mmake_command(command, packet \u001b[38;5;129;01mor\u001b[39;00m argument),\n\u001b[1;32m    509\u001b[0m         packet_number,\n\u001b[1;32m    510\u001b[0m         compressed_packet_number,\n\u001b[1;32m    511\u001b[0m         write_timeout \u001b[38;5;129;01mor\u001b[39;00m \u001b[38;5;28mself\u001b[39m\u001b[38;5;241m.\u001b[39m_write_timeout,\n\u001b[1;32m    512\u001b[0m     )\n\u001b[1;32m    513\u001b[0m     \u001b[38;5;28;01mreturn\u001b[39;00m (\n\u001b[0;32m--> 514\u001b[0m         \u001b[38;5;28mself\u001b[39m\u001b[38;5;241m.\u001b[39m_socket\u001b[38;5;241m.\u001b[39mrecv(read_timeout \u001b[38;5;129;01mor\u001b[39;00m \u001b[38;5;28mself\u001b[39m\u001b[38;5;241m.\u001b[39m_read_timeout)\n\u001b[1;32m    515\u001b[0m         \u001b[38;5;28;01mif\u001b[39;00m expect_response\n\u001b[1;32m    516\u001b[0m         \u001b[38;5;28;01melse\u001b[39;00m \u001b[38;5;28;01mNone\u001b[39;00m\n\u001b[1;32m    517\u001b[0m     )\n\u001b[1;32m    518\u001b[0m \u001b[38;5;28;01mexcept\u001b[39;00m \u001b[38;5;167;01mAttributeError\u001b[39;00m \u001b[38;5;28;01mas\u001b[39;00m err:\n\u001b[1;32m    519\u001b[0m     \u001b[38;5;28;01mraise\u001b[39;00m OperationalError(\u001b[38;5;124m\"\u001b[39m\u001b[38;5;124mMySQL Connection not available\u001b[39m\u001b[38;5;124m\"\u001b[39m) \u001b[38;5;28;01mfrom\u001b[39;00m \u001b[38;5;21;01merr\u001b[39;00m\n",
      "File \u001b[0;32m/opt/anaconda3/lib/python3.12/site-packages/mysql/connector/network.py:669\u001b[0m, in \u001b[0;36mMySQLSocket.recv\u001b[0;34m(self, read_timeout)\u001b[0m\n\u001b[1;32m    666\u001b[0m \u001b[38;5;28;01mexcept\u001b[39;00m \u001b[38;5;167;01mOSError\u001b[39;00m \u001b[38;5;28;01mas\u001b[39;00m _:\n\u001b[1;32m    667\u001b[0m     \u001b[38;5;66;03m# Ignore the OSError as the socket might not be setup properly\u001b[39;00m\n\u001b[1;32m    668\u001b[0m     \u001b[38;5;28;01mpass\u001b[39;00m\n\u001b[0;32m--> 669\u001b[0m \u001b[38;5;28;01mreturn\u001b[39;00m \u001b[38;5;28mself\u001b[39m\u001b[38;5;241m.\u001b[39m_netbroker\u001b[38;5;241m.\u001b[39mrecv(\u001b[38;5;28mself\u001b[39m\u001b[38;5;241m.\u001b[39msock, \u001b[38;5;28mself\u001b[39m\u001b[38;5;241m.\u001b[39maddress)\n",
      "File \u001b[0;32m/opt/anaconda3/lib/python3.12/site-packages/mysql/connector/network.py:236\u001b[0m, in \u001b[0;36mNetworkBrokerPlain.recv\u001b[0;34m(self, sock, address)\u001b[0m\n\u001b[1;32m    233\u001b[0m \u001b[38;5;250m\u001b[39m\u001b[38;5;124;03m\"\"\"Receive `one` packet from the MySQL server.\"\"\"\u001b[39;00m\n\u001b[1;32m    234\u001b[0m \u001b[38;5;28;01mtry\u001b[39;00m:\n\u001b[1;32m    235\u001b[0m     \u001b[38;5;66;03m# Read the header of the MySQL packet\u001b[39;00m\n\u001b[0;32m--> 236\u001b[0m     header \u001b[38;5;241m=\u001b[39m \u001b[38;5;28mself\u001b[39m\u001b[38;5;241m.\u001b[39m_recv_chunk(sock, size\u001b[38;5;241m=\u001b[39mPACKET_HEADER_LENGTH)\n\u001b[1;32m    238\u001b[0m     \u001b[38;5;66;03m# Pull the payload length and sequence id\u001b[39;00m\n\u001b[1;32m    239\u001b[0m     payload_len, \u001b[38;5;28mself\u001b[39m\u001b[38;5;241m.\u001b[39m_pktnr \u001b[38;5;241m=\u001b[39m (\n\u001b[1;32m    240\u001b[0m         struct\u001b[38;5;241m.\u001b[39munpack(\u001b[38;5;124m\"\u001b[39m\u001b[38;5;124m<I\u001b[39m\u001b[38;5;124m\"\u001b[39m, header[\u001b[38;5;241m0\u001b[39m:\u001b[38;5;241m3\u001b[39m] \u001b[38;5;241m+\u001b[39m \u001b[38;5;124mb\u001b[39m\u001b[38;5;124m\"\u001b[39m\u001b[38;5;130;01m\\x00\u001b[39;00m\u001b[38;5;124m\"\u001b[39m)[\u001b[38;5;241m0\u001b[39m],\n\u001b[1;32m    241\u001b[0m         header[\u001b[38;5;241m3\u001b[39m],\n\u001b[1;32m    242\u001b[0m     )\n",
      "File \u001b[0;32m/opt/anaconda3/lib/python3.12/site-packages/mysql/connector/network.py:181\u001b[0m, in \u001b[0;36mNetworkBrokerPlain._recv_chunk\u001b[0;34m(self, sock, size)\u001b[0m\n\u001b[1;32m    179\u001b[0m pkt_view \u001b[38;5;241m=\u001b[39m \u001b[38;5;28mmemoryview\u001b[39m(pkt)\n\u001b[1;32m    180\u001b[0m \u001b[38;5;28;01mwhile\u001b[39;00m size:\n\u001b[0;32m--> 181\u001b[0m     read \u001b[38;5;241m=\u001b[39m sock\u001b[38;5;241m.\u001b[39mrecv_into(pkt_view, size)\n\u001b[1;32m    182\u001b[0m     \u001b[38;5;28;01mif\u001b[39;00m read \u001b[38;5;241m==\u001b[39m \u001b[38;5;241m0\u001b[39m \u001b[38;5;129;01mand\u001b[39;00m size \u001b[38;5;241m>\u001b[39m \u001b[38;5;241m0\u001b[39m:\n\u001b[1;32m    183\u001b[0m         \u001b[38;5;28;01mraise\u001b[39;00m InterfaceError(errno\u001b[38;5;241m=\u001b[39m\u001b[38;5;241m2013\u001b[39m)\n",
      "File \u001b[0;32m/opt/anaconda3/lib/python3.12/ssl.py:1251\u001b[0m, in \u001b[0;36mSSLSocket.recv_into\u001b[0;34m(self, buffer, nbytes, flags)\u001b[0m\n\u001b[1;32m   1247\u001b[0m     \u001b[38;5;28;01mif\u001b[39;00m flags \u001b[38;5;241m!=\u001b[39m \u001b[38;5;241m0\u001b[39m:\n\u001b[1;32m   1248\u001b[0m         \u001b[38;5;28;01mraise\u001b[39;00m \u001b[38;5;167;01mValueError\u001b[39;00m(\n\u001b[1;32m   1249\u001b[0m           \u001b[38;5;124m\"\u001b[39m\u001b[38;5;124mnon-zero flags not allowed in calls to recv_into() on \u001b[39m\u001b[38;5;132;01m%s\u001b[39;00m\u001b[38;5;124m\"\u001b[39m \u001b[38;5;241m%\u001b[39m\n\u001b[1;32m   1250\u001b[0m           \u001b[38;5;28mself\u001b[39m\u001b[38;5;241m.\u001b[39m\u001b[38;5;18m__class__\u001b[39m)\n\u001b[0;32m-> 1251\u001b[0m     \u001b[38;5;28;01mreturn\u001b[39;00m \u001b[38;5;28mself\u001b[39m\u001b[38;5;241m.\u001b[39mread(nbytes, buffer)\n\u001b[1;32m   1252\u001b[0m \u001b[38;5;28;01melse\u001b[39;00m:\n\u001b[1;32m   1253\u001b[0m     \u001b[38;5;28;01mreturn\u001b[39;00m \u001b[38;5;28msuper\u001b[39m()\u001b[38;5;241m.\u001b[39mrecv_into(buffer, nbytes, flags)\n",
      "File \u001b[0;32m/opt/anaconda3/lib/python3.12/ssl.py:1103\u001b[0m, in \u001b[0;36mSSLSocket.read\u001b[0;34m(self, len, buffer)\u001b[0m\n\u001b[1;32m   1101\u001b[0m \u001b[38;5;28;01mtry\u001b[39;00m:\n\u001b[1;32m   1102\u001b[0m     \u001b[38;5;28;01mif\u001b[39;00m buffer \u001b[38;5;129;01mis\u001b[39;00m \u001b[38;5;129;01mnot\u001b[39;00m \u001b[38;5;28;01mNone\u001b[39;00m:\n\u001b[0;32m-> 1103\u001b[0m         \u001b[38;5;28;01mreturn\u001b[39;00m \u001b[38;5;28mself\u001b[39m\u001b[38;5;241m.\u001b[39m_sslobj\u001b[38;5;241m.\u001b[39mread(\u001b[38;5;28mlen\u001b[39m, buffer)\n\u001b[1;32m   1104\u001b[0m     \u001b[38;5;28;01melse\u001b[39;00m:\n\u001b[1;32m   1105\u001b[0m         \u001b[38;5;28;01mreturn\u001b[39;00m \u001b[38;5;28mself\u001b[39m\u001b[38;5;241m.\u001b[39m_sslobj\u001b[38;5;241m.\u001b[39mread(\u001b[38;5;28mlen\u001b[39m)\n",
      "\u001b[0;31mKeyboardInterrupt\u001b[0m: "
     ]
    }
   ],
   "source": [
    "#This is for the one-to-one tables. The primary key is VIN(1-10) \n",
    "#CREATING VEHICLE TABLE\n",
    "\n",
    "sql = ( \"\"\"\n",
    "        CREATE TABLE vehicle\n",
    "        (\n",
    "            vin varchar(32),\n",
    "            make varchar(32),\n",
    "            model varchar(32),\n",
    "            model_year int,\n",
    "            PRIMARY KEY(vin)\n",
    "        )\n",
    "        \"\"\"\n",
    "      )\n",
    "cursor.execute(sql)"
   ]
  },
  {
   "cell_type": "code",
   "execution_count": null,
   "id": "bb1348c5-e761-428d-9743-ff72be2e90b7",
   "metadata": {},
   "outputs": [],
   "source": [
    "sql = ( \"\"\"\n",
    "        CREATE TABLE location\n",
    "        (\n",
    "            vin varchar(20),\n",
    "            county varchar(32),\n",
    "            city varchar(32),\n",
    "            state varchar(32),\n",
    "            zip_code int,\n",
    "            FOREIGN KEY (vin) REFERENCES vehicle(vin)\n",
    "        )\n",
    "        \"\"\"\n",
    "      )\n",
    "\n",
    "cursor.execute(sql);"
   ]
  },
  {
   "cell_type": "code",
   "execution_count": null,
   "id": "0c788b6c-27c1-4c32-b318-fdc905d9628d",
   "metadata": {
    "scrolled": true
   },
   "outputs": [],
   "source": []
  },
  {
   "cell_type": "code",
   "execution_count": null,
   "id": "24fe6286-cf13-4406-afa9-8fd3e8707eaa",
   "metadata": {},
   "outputs": [],
   "source": []
  },
  {
   "cell_type": "code",
   "execution_count": null,
   "id": "bb653b9a-98bb-4b4b-907b-b56b2033913b",
   "metadata": {},
   "outputs": [],
   "source": [
    "#For these two tables the primary key is the vin, and the foriegn key is in the location table and it is the vin as well"
   ]
  },
  {
   "cell_type": "code",
   "execution_count": null,
   "id": "e1dc5f42-21eb-4ef3-9589-a3083c9ffdf3",
   "metadata": {},
   "outputs": [],
   "source": []
  },
  {
   "cell_type": "code",
   "execution_count": null,
   "id": "273ccd0a-79a6-43d5-abaf-3e2156767570",
   "metadata": {},
   "outputs": [],
   "source": [
    "#def remove_duplicates("
   ]
  },
  {
   "cell_type": "code",
   "execution_count": null,
   "id": "5e2deeb5-b461-47c1-a9c0-c9314e2166bc",
   "metadata": {},
   "outputs": [],
   "source": [
    "sql_insert_vehicle = (  \n",
    "    \"\"\"\n",
    "    INSERT INTO vehicle (vin, model_year, make, model)\n",
    "    VALUES (%s, %s, %s, %s)\n",
    "    \"\"\"\n",
    ")\n",
    "\n",
    "sql_insert_location = ( \n",
    "    \"\"\"\n",
    "    INSERT INTO location (vin, county, city, state, zip_code)\n",
    "    VALUES (%s, %s, %s, %s, %s)\n",
    "    \"\"\"\n",
    ")"
   ]
  },
  {
   "cell_type": "code",
   "execution_count": null,
   "id": "27862176-ef9c-4590-864f-deef10e23255",
   "metadata": {},
   "outputs": [],
   "source": []
  },
  {
   "cell_type": "code",
   "execution_count": null,
   "id": "5b316d51-1fa1-450a-9a5e-5b18eac11a5b",
   "metadata": {},
   "outputs": [],
   "source": [
    "def transform_vehicle(row):\n",
    "    #Converting the model_year column and zip-code column to an int\n",
    "    try:\n",
    "      row[1] = int(row[1])\n",
    "    except ValueError:\n",
    "      row[4] = None\n",
    "\n",
    "    return row"
   ]
  },
  {
   "cell_type": "code",
   "execution_count": null,
   "id": "a7c815a3-ed1b-45f7-9a5f-023f89336666",
   "metadata": {},
   "outputs": [],
   "source": [
    "def transform_location(row):\n",
    "    #Converting the model_year column and zip-code column to an int\n",
    "    try:\n",
    "      row[4] = int(row[4])\n",
    "    except ValueError:\n",
    "      row[4] = None\n",
    "\n",
    "    return row"
   ]
  },
  {
   "cell_type": "code",
   "execution_count": null,
   "id": "17302bf5-0be3-438e-93e8-f476484449d6",
   "metadata": {},
   "outputs": [],
   "source": []
  },
  {
   "cell_type": "code",
   "execution_count": null,
   "id": "e004fdc9-f8f5-43c8-9f57-bdf692560738",
   "metadata": {
    "scrolled": true
   },
   "outputs": [],
   "source": []
  },
  {
   "cell_type": "code",
   "execution_count": null,
   "id": "9038b2da-483f-40a1-b930-7b1a73e3ddb5",
   "metadata": {
    "scrolled": true
   },
   "outputs": [],
   "source": [
    "#This works, all you need to do is create a new table with the new variable sizes and run it again\n",
    "vehicle_cols = [0, 5, 6, 7]\n",
    "location_cols = [0, 1, 2, 3, 4]\n",
    "first = True\n",
    "seen_vins = set()  \n",
    "\n",
    "# Read CSV data into a list before processing\n",
    "with open('Electric_Vehicle_Population_Data.csv', newline='') as csv_file:\n",
    "    data = list(csv.reader(csv_file, delimiter=',', quotechar='\"'))  \n",
    "\n",
    "for row in data:\n",
    "    if not first:\n",
    "        vin = row[vehicle_cols[0]]  \n",
    "\n",
    "        # Skips over the duplicates found in the file\n",
    "        if vin in seen_vins:\n",
    "            continue  \n",
    "        seen_vins.add(vin)  \n",
    "\n",
    "        # Checking if the VIN already exists in the database\n",
    "        cursor.execute(\"SELECT COUNT(*) FROM vehicle WHERE vin = %s\", (vin,))\n",
    "        if cursor.fetchone()[0] > 0:\n",
    "            continue  # Skip database duplicates too\n",
    "\n",
    "        vehicle_row = [row[i] for i in vehicle_cols]\n",
    "        #print(vehicle_row)  \n",
    "\n",
    "        # Insert into vehicle table\n",
    "        cursor.execute(sql_insert_vehicle, vehicle_row)\n",
    "\n",
    "    first = False  \n",
    "\n",
    "conn.commit()\n"
   ]
  },
  {
   "cell_type": "code",
   "execution_count": null,
   "id": "8ce00842-6a9a-4e75-8804-ebb3d4f55da3",
   "metadata": {},
   "outputs": [],
   "source": [
    "sql = \"\"\"\n",
    "    SELECT * FROM vehicle LIMIT 25\n",
    "\"\"\"\n",
    "\n",
    "cursor.execute(sql)\n",
    "results = cursor.fetchall()\n",
    "\n",
    "for row in results:\n",
    "    print(row)\n",
    "\n",
    "conn.commit()"
   ]
  },
  {
   "cell_type": "code",
   "execution_count": 19,
   "id": "92e124df-bfae-4fa1-bec6-1d301e05aea1",
   "metadata": {},
   "outputs": [],
   "source": [
    "cursor.close()\n",
    "conn.close()"
   ]
  },
  {
   "cell_type": "code",
   "execution_count": null,
   "id": "ef64fd1c-bac1-47cf-bab5-8bb4ba575d0c",
   "metadata": {},
   "outputs": [],
   "source": []
  },
  {
   "cell_type": "raw",
   "id": "168aef17-504d-4c7d-ab05-6d6386981191",
   "metadata": {},
   "source": []
  },
  {
   "cell_type": "code",
   "execution_count": null,
   "id": "e15325ea-57c6-4ee9-b8c3-886c15bb5155",
   "metadata": {},
   "outputs": [],
   "source": []
  }
 ],
 "metadata": {
  "kernelspec": {
   "display_name": "Python [conda env:base] *",
   "language": "python",
   "name": "conda-base-py"
  },
  "language_info": {
   "codemirror_mode": {
    "name": "ipython",
    "version": 3
   },
   "file_extension": ".py",
   "mimetype": "text/x-python",
   "name": "python",
   "nbconvert_exporter": "python",
   "pygments_lexer": "ipython3",
   "version": "3.12.7"
  }
 },
 "nbformat": 4,
 "nbformat_minor": 5
}
