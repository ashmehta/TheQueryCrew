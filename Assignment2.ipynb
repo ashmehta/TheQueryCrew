{
 "cells": [
  {
   "cell_type": "code",
   "execution_count": 156,
   "id": "2ed52f90-a52d-4f51-bc70-8e669a803344",
   "metadata": {},
   "outputs": [],
   "source": [
    "import csv\n",
    "import pandas as pd"
   ]
  },
  {
   "cell_type": "code",
   "execution_count": null,
   "id": "d520c025-5986-47d4-916c-222c982a0d96",
   "metadata": {},
   "outputs": [],
   "source": []
  },
  {
   "cell_type": "code",
   "execution_count": 157,
   "id": "6aea837c-b376-456c-80c9-94d9ad3489ef",
   "metadata": {},
   "outputs": [],
   "source": [
    "from mysql.connector import MySQLConnection, Error"
   ]
  },
  {
   "cell_type": "code",
   "execution_count": 158,
   "id": "f07d7d8e-9b26-4643-8a16-68b4c5740238",
   "metadata": {},
   "outputs": [],
   "source": [
    "#Making connection to SQL server\n",
    "def make_connection():\n",
    "    try:\n",
    "        conn = MySQLConnection(host='IES-ADS-ClassDB.sjsu.edu',\n",
    "                               database='querycrew_db',\n",
    "                               user='querycrew_user',\n",
    "                               password='Pomegranate_746')\n",
    "        \n",
    "        if conn.is_connected():\n",
    "            print('Connected to the MySQL database!')\n",
    "            \n",
    "            return conn\n",
    "                \n",
    "    except Error as e:\n",
    "        print('Connection failed.')\n",
    "        print(e)\n",
    "        \n",
    "        return None"
   ]
  },
  {
   "cell_type": "code",
   "execution_count": 159,
   "id": "a6128ed3-19c9-4ad5-b3f5-120cea023903",
   "metadata": {},
   "outputs": [
    {
     "name": "stdout",
     "output_type": "stream",
     "text": [
      "Connected to the MySQL database!\n"
     ]
    }
   ],
   "source": [
    "conn = make_connection()\n",
    "cursor = conn.cursor()"
   ]
  },
  {
   "cell_type": "code",
   "execution_count": 160,
   "id": "9da31c93-1a20-4876-9d95-f21cd901b0c4",
   "metadata": {},
   "outputs": [],
   "source": [
    "cursor.execute('DROP TABLE IF EXISTS location')"
   ]
  },
  {
   "cell_type": "code",
   "execution_count": 161,
   "id": "182bc13a-2120-4c40-ab79-36b68318a90a",
   "metadata": {},
   "outputs": [],
   "source": [
    "cursor.execute('DROP TABLE IF EXISTS vehicle')"
   ]
  },
  {
   "cell_type": "code",
   "execution_count": 162,
   "id": "fce90e6a-7da2-4bc8-bd11-413bdec2a479",
   "metadata": {},
   "outputs": [],
   "source": [
    "#This is for the one-to-one tables. The primary key is VIN(1-10) \n",
    "#Creating a vehicle table\n",
    "\n",
    "sql = ( \"\"\"\n",
    "        CREATE TABLE vehicle\n",
    "        (\n",
    "            vin varchar(32),\n",
    "            make varchar(32),\n",
    "            model varchar(32),\n",
    "            model_year int,\n",
    "            PRIMARY KEY(vin)\n",
    "        )\n",
    "        \"\"\"\n",
    "      )\n",
    "cursor.execute(sql)"
   ]
  },
  {
   "cell_type": "code",
   "execution_count": 163,
   "id": "bb1348c5-e761-428d-9743-ff72be2e90b7",
   "metadata": {},
   "outputs": [],
   "source": [
    "#FIGURE OUT A PRIMARY KEY FOR THIS TABLE\n",
    "sql = ( \"\"\"\n",
    "        CREATE TABLE location\n",
    "        (\n",
    "            dol_id int,\n",
    "            vin varchar(20),\n",
    "            county varchar(32),\n",
    "            city varchar(32),\n",
    "            state varchar(32),\n",
    "            zip_code int,\n",
    "            PRIMARY KEY(dol_id),\n",
    "            FOREIGN KEY (vin) REFERENCES vehicle(vin)\n",
    "        )\n",
    "        \"\"\"\n",
    "      )\n",
    "\n",
    "cursor.execute(sql);"
   ]
  },
  {
   "cell_type": "code",
   "execution_count": null,
   "id": "0c788b6c-27c1-4c32-b318-fdc905d9628d",
   "metadata": {
    "scrolled": true
   },
   "outputs": [],
   "source": []
  },
  {
   "cell_type": "code",
   "execution_count": null,
   "id": "24fe6286-cf13-4406-afa9-8fd3e8707eaa",
   "metadata": {},
   "outputs": [],
   "source": []
  },
  {
   "cell_type": "code",
   "execution_count": 164,
   "id": "bb653b9a-98bb-4b4b-907b-b56b2033913b",
   "metadata": {},
   "outputs": [],
   "source": [
    "#For both of these two tables created, the primary key is the vin, and the foriegn key is in the location table and it is the vin as well"
   ]
  },
  {
   "cell_type": "code",
   "execution_count": null,
   "id": "e1dc5f42-21eb-4ef3-9589-a3083c9ffdf3",
   "metadata": {},
   "outputs": [],
   "source": []
  },
  {
   "cell_type": "code",
   "execution_count": null,
   "id": "273ccd0a-79a6-43d5-abaf-3e2156767570",
   "metadata": {},
   "outputs": [],
   "source": []
  },
  {
   "cell_type": "code",
   "execution_count": 165,
   "id": "5e2deeb5-b461-47c1-a9c0-c9314e2166bc",
   "metadata": {},
   "outputs": [],
   "source": [
    "sql_insert_vehicle = (  \n",
    "    \"\"\"\n",
    "    INSERT INTO vehicle (vin, model_year, make, model)\n",
    "    VALUES (%s, %s, %s, %s)\n",
    "    \"\"\"\n",
    ")"
   ]
  },
  {
   "cell_type": "code",
   "execution_count": 166,
   "id": "27862176-ef9c-4590-864f-deef10e23255",
   "metadata": {},
   "outputs": [],
   "source": [
    "sql_insert_location = ( \n",
    "    \"\"\"\n",
    "    INSERT INTO location (dol_id, vin, county, city, state, zip_code)\n",
    "    VALUES (%s, %s, %s, %s, %s, %s)\n",
    "    \"\"\"\n",
    ")"
   ]
  },
  {
   "cell_type": "code",
   "execution_count": 167,
   "id": "5b316d51-1fa1-450a-9a5e-5b18eac11a5b",
   "metadata": {},
   "outputs": [],
   "source": [
    "def transform_vehicle(row):\n",
    "    #Converting the model_year column and zip-code column to an int\n",
    "    try:\n",
    "      row[1] = int(row[1])\n",
    "    except ValueError:\n",
    "      row[4] = None\n",
    "      row[1] = int(row[1])\n",
    "\n",
    "    return row"
   ]
  },
  {
   "cell_type": "code",
   "execution_count": 168,
   "id": "a7c815a3-ed1b-45f7-9a5f-023f89336666",
   "metadata": {},
   "outputs": [],
   "source": [
    "def transform_location(row):\n",
    "    try:\n",
    "      row[0] = int(row[0])\n",
    "      row[4] = int(row[4])\n",
    "    except ValueError:\n",
    "      row[0] = None\n",
    "      row[4] = None\n",
    "\n",
    "    return row"
   ]
  },
  {
   "cell_type": "code",
   "execution_count": null,
   "id": "17302bf5-0be3-438e-93e8-f476484449d6",
   "metadata": {},
   "outputs": [],
   "source": []
  },
  {
   "cell_type": "code",
   "execution_count": null,
   "id": "e004fdc9-f8f5-43c8-9f57-bdf692560738",
   "metadata": {
    "scrolled": true
   },
   "outputs": [],
   "source": []
  },
  {
   "cell_type": "code",
   "execution_count": 169,
   "id": "9038b2da-483f-40a1-b930-7b1a73e3ddb5",
   "metadata": {
    "scrolled": true
   },
   "outputs": [],
   "source": [
    "vehicle_cols = [0, 5, 6, 7]\n",
    "location_cols = [13, 0, 1, 2, 3, 4]\n",
    "first = True\n",
    "seen_vins = set()  \n",
    "\n",
    "# Read CSV data into a list before processing\n",
    "with open('Electric_Vehicle_Population_Data.csv', newline='') as csv_file:\n",
    "    data = list(csv.reader(csv_file, delimiter=',', quotechar='\"'))  \n",
    "\n",
    "for row in data:\n",
    "    if not first:\n",
    "        vin = row[vehicle_cols[0]]  \n",
    "\n",
    "        # Skips over the duplicates found in the file\n",
    "        if vin in seen_vins:\n",
    "            continue  \n",
    "        seen_vins.add(vin)  \n",
    "\n",
    "        # Here I am checking if the VIN already exists within the database for vehicle\n",
    "        cursor.execute(\"SELECT COUNT(*) FROM vehicle WHERE vin = %s\", (vin,))\n",
    "        if cursor.fetchone()[0] > 0:\n",
    "            continue \n",
    "        #This is where we are identifying the specific columns \n",
    "        vehicle_row = [row[i] for i in vehicle_cols]\n",
    "        location_row = [row[i] for i in location_cols]\n",
    "          \n",
    "        #Inserting into repsective tables\n",
    "        cursor.execute(sql_insert_vehicle, vehicle_row)\n",
    "        cursor.execute(sql_insert_location, location_row)\n",
    "\n",
    "    first = False  \n",
    "\n",
    "conn.commit()\n"
   ]
  },
  {
   "cell_type": "code",
   "execution_count": 170,
   "id": "8ce00842-6a9a-4e75-8804-ebb3d4f55da3",
   "metadata": {},
   "outputs": [
    {
     "name": "stdout",
     "output_type": "stream",
     "text": [
      "('1C4JJXN60P', 'JEEP', 'WRANGLER', 2023)\n",
      "('1C4JJXN61P', 'JEEP', 'WRANGLER', 2023)\n",
      "('1C4JJXN62P', 'JEEP', 'WRANGLER', 2023)\n",
      "('1C4JJXN63P', 'JEEP', 'WRANGLER', 2023)\n",
      "('1C4JJXN64P', 'JEEP', 'WRANGLER', 2023)\n",
      "('1C4JJXN65P', 'JEEP', 'WRANGLER', 2023)\n",
      "('1C4JJXN66P', 'JEEP', 'WRANGLER', 2023)\n",
      "('1C4JJXN67P', 'JEEP', 'WRANGLER', 2023)\n",
      "('1C4JJXN68P', 'JEEP', 'WRANGLER', 2023)\n",
      "('1C4JJXN69P', 'JEEP', 'WRANGLER', 2023)\n",
      "('1C4JJXN6XP', 'JEEP', 'WRANGLER', 2023)\n",
      "('1C4JJXP60M', 'JEEP', 'WRANGLER', 2021)\n",
      "('1C4JJXP60N', 'JEEP', 'WRANGLER', 2022)\n",
      "('1C4JJXP60P', 'JEEP', 'WRANGLER', 2023)\n",
      "('1C4JJXP61M', 'JEEP', 'WRANGLER', 2021)\n",
      "('1C4JJXP61N', 'JEEP', 'WRANGLER', 2022)\n",
      "('1C4JJXP61P', 'JEEP', 'WRANGLER', 2023)\n",
      "('1C4JJXP62M', 'JEEP', 'WRANGLER', 2021)\n",
      "('1C4JJXP62N', 'JEEP', 'WRANGLER', 2022)\n",
      "('1C4JJXP62P', 'JEEP', 'WRANGLER', 2023)\n",
      "('1C4JJXP63M', 'JEEP', 'WRANGLER', 2021)\n",
      "('1C4JJXP63N', 'JEEP', 'WRANGLER', 2022)\n",
      "('1C4JJXP63P', 'JEEP', 'WRANGLER', 2023)\n",
      "('1C4JJXP64M', 'JEEP', 'WRANGLER', 2021)\n",
      "('1C4JJXP64N', 'JEEP', 'WRANGLER', 2022)\n"
     ]
    }
   ],
   "source": [
    "sql = (  \n",
    "    \"\"\"\n",
    "    SELECT * FROM vehicle LIMIT 25\n",
    "    \"\"\"\n",
    ")\n",
    "cursor.execute(sql)\n",
    "results = cursor.fetchall()\n",
    "\n",
    "\n",
    "\n",
    "for row in results:\n",
    "    print(row)\n",
    "\n",
    "conn.commit()"
   ]
  },
  {
   "cell_type": "code",
   "execution_count": 171,
   "id": "8f9b642f-9ba9-4bd9-9350-abfbedba44f1",
   "metadata": {},
   "outputs": [
    {
     "name": "stdout",
     "output_type": "stream",
     "text": [
      "(4469, '1G1RB6S51J', 'Jefferson', 'Port Townsend', 'WA', 98368)\n",
      "(201400, 'KNDJP3AE5G', 'King', 'Federal Way', 'WA', 98023)\n",
      "(206762, 'WBY1Z2C51E', 'King', 'Seattle', 'WA', 98118)\n",
      "(296957, '5YJSA1E41G', 'Kitsap', 'Bainbridge Island', 'WA', 98110)\n",
      "(429173, '1G1RB6S55J', 'King', 'Seattle', 'WA', 98177)\n",
      "(546941, '1G1RB6S50H', 'King', 'Seattle', 'WA', 98122)\n",
      "(1238030, 'JA3215H48G', 'Spokane', 'Spokane Valley', 'WA', 99216)\n",
      "(1415298, '1G1RH6E4XE', 'King', 'Seattle', 'WA', 98103)\n",
      "(1495133, 'KMHC05LH0H', 'King', 'Kirkland', 'WA', 98033)\n",
      "(1562389, '1G1RF6E46D', 'Clark', 'Vancouver', 'WA', 98685)\n",
      "(1593721, '3C3CFFGE4E', 'Yakima', 'Yakima', 'WA', 98902)\n",
      "(1708409, '1N4BZ0CP4H', 'King', 'Shoreline', 'WA', 98155)\n",
      "(1802146, '1G6RM1E42G', 'Snohomish', 'Stanwood', 'WA', 98292)\n",
      "(1829285, 'WBY2Z6C54K', 'King', 'Sammamish', 'WA', 98074)\n",
      "(1843054, '5YJXCAE29L', 'Kitsap', 'Silverdale', 'WA', 98383)\n",
      "(1869563, 'KMHE14L29H', 'King', 'Seattle', 'WA', 98146)\n",
      "(1871509, '1G1RA6S55H', 'King', 'Seattle', 'WA', 98133)\n",
      "(1884746, 'WDC0G5EB6K', 'King', 'Seattle', 'WA', 98136)\n",
      "(1923904, 'YV4BR00L9L', 'King', 'Bellevue', 'WA', 98004)\n",
      "(1955208, '5YJXCDE26K', 'King', 'Burien', 'WA', 98146)\n",
      "(1995500, '7JRBR0FL0K', 'King', 'Seattle', 'WA', 98101)\n",
      "(2015611, 'WMEEJ9AA8G', 'Whatcom', 'Ferndale', 'WA', 98248)\n",
      "(2019230, 'YV4BC0PK9G', 'King', 'Kirkland', 'WA', 98033)\n",
      "(2031004, '5UXKT0C51G', 'King', 'Kirkland', 'WA', 98034)\n",
      "(2057373, '1G1RB6E41D', 'King', 'Seattle', 'WA', 98177)\n"
     ]
    }
   ],
   "source": [
    "sql = (  \n",
    "    \"\"\"\n",
    "    SELECT * FROM location LIMIT 25\n",
    "    \"\"\"\n",
    ")\n",
    "cursor.execute(sql)\n",
    "results = cursor.fetchall()\n",
    "\n",
    "if results:\n",
    "    for row in results:\n",
    "        print(row)\n",
    "conn.commit()"
   ]
  },
  {
   "cell_type": "code",
   "execution_count": null,
   "id": "7798cf30-115d-4c18-aac2-eef4a7931ed1",
   "metadata": {},
   "outputs": [],
   "source": [
    "\n"
   ]
  },
  {
   "cell_type": "code",
   "execution_count": 172,
   "id": "92e124df-bfae-4fa1-bec6-1d301e05aea1",
   "metadata": {},
   "outputs": [],
   "source": [
    "cursor.close()\n",
    "conn.close()"
   ]
  },
  {
   "cell_type": "code",
   "execution_count": null,
   "id": "ef64fd1c-bac1-47cf-bab5-8bb4ba575d0c",
   "metadata": {},
   "outputs": [],
   "source": []
  },
  {
   "cell_type": "raw",
   "id": "168aef17-504d-4c7d-ab05-6d6386981191",
   "metadata": {},
   "source": []
  },
  {
   "cell_type": "code",
   "execution_count": 173,
   "id": "e15325ea-57c6-4ee9-b8c3-886c15bb5155",
   "metadata": {},
   "outputs": [],
   "source": [
    "#Look at the last values and make sure that they are separate cars"
   ]
  }
 ],
 "metadata": {
  "kernelspec": {
   "display_name": "Python [conda env:base] *",
   "language": "python",
   "name": "conda-base-py"
  },
  "language_info": {
   "codemirror_mode": {
    "name": "ipython",
    "version": 3
   },
   "file_extension": ".py",
   "mimetype": "text/x-python",
   "name": "python",
   "nbconvert_exporter": "python",
   "pygments_lexer": "ipython3",
   "version": "3.12.7"
  }
 },
 "nbformat": 4,
 "nbformat_minor": 5
}
