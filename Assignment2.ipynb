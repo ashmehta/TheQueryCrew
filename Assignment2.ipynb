Last login: Wed Feb  5 22:02:03 on ttys000
(base) sakethnambiar@mac ~ % cd Documents/SJSU/Courses/DATA201/python
(base) sakethnambiar@mac python % ls 
11-CSV-read.ipynb.webloc	Assignment2
Assignment1.ipynb		anaconda_projects
Assignment1.py
(base) sakethnambiar@mac python % cd Assignment2
(base) sakethnambiar@mac Assignment2 % vim Assignment2.ipynb 
















 ],
 "metadata": {
  "kernelspec": {
   "display_name": "Python [conda env:base] *",
   "language": "python",
   "name": "conda-base-py"
  },
  "language_info": {
   "codemirror_mode": {
    "name": "ipython",
    "version": 3
   },
   "file_extension": ".py",
   "mimetype": "text/x-python",
   "name": "python",
   "nbconvert_exporter": "python",
   "pygments_lexer": "ipython3",
   "version": "3.12.7"
  }
 },
 "nbformat": 4,
 "nbformat_minor": 5
}

