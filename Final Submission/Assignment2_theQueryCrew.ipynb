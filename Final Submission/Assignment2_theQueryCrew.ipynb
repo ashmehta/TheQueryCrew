{
 "cells": [
  {
   "cell_type": "code",
   "execution_count": 3,
   "id": "2ed52f90-a52d-4f51-bc70-8e669a803344",
   "metadata": {},
   "outputs": [],
   "source": [
    "import csv\n",
    "import pandas as pd"
   ]
  },
  {
   "cell_type": "code",
   "execution_count": null,
   "id": "d520c025-5986-47d4-916c-222c982a0d96",
   "metadata": {},
   "outputs": [],
   "source": []
  },
  {
   "cell_type": "code",
   "execution_count": 6,
   "id": "6aea837c-b376-456c-80c9-94d9ad3489ef",
   "metadata": {},
   "outputs": [],
   "source": [
    "from mysql.connector import MySQLConnection, Error"
   ]
  },
  {
   "cell_type": "code",
   "execution_count": 8,
   "id": "f07d7d8e-9b26-4643-8a16-68b4c5740238",
   "metadata": {},
   "outputs": [],
   "source": [
    "#Making connection to SQL server\n",
    "def make_connection():\n",
    "    try:\n",
    "        conn = MySQLConnection(host='IES-ADS-ClassDB.sjsu.edu',\n",
    "                               database='querycrew_db',\n",
    "                               user='querycrew_user',\n",
    "                               password='Pomegranate_746')\n",
    "        \n",
    "        if conn.is_connected():\n",
    "            print('Connected to the MySQL database!')\n",
    "            \n",
    "            return conn\n",
    "                \n",
    "    except Error as e:\n",
    "        print('Connection failed.')\n",
    "        print(e)\n",
    "        \n",
    "        return None"
   ]
  },
  {
   "cell_type": "code",
   "execution_count": 10,
   "id": "a6128ed3-19c9-4ad5-b3f5-120cea023903",
   "metadata": {},
   "outputs": [
    {
     "name": "stdout",
     "output_type": "stream",
     "text": [
      "Connected to the MySQL database!\n"
     ]
    }
   ],
   "source": [
    "conn = make_connection()\n",
    "cursor = conn.cursor()"
   ]
  },
  {
   "cell_type": "code",
   "execution_count": null,
   "id": "9da31c93-1a20-4876-9d95-f21cd901b0c4",
   "metadata": {},
   "outputs": [],
   "source": [
    "cursor.execute('DROP TABLE IF EXISTS location')"
   ]
  },
  {
   "cell_type": "code",
   "execution_count": 161,
   "id": "182bc13a-2120-4c40-ab79-36b68318a90a",
   "metadata": {},
   "outputs": [],
   "source": [
    "cursor.execute('DROP TABLE IF EXISTS vehicle')"
   ]
  },
  {
   "cell_type": "code",
   "execution_count": 162,
   "id": "fce90e6a-7da2-4bc8-bd11-413bdec2a479",
   "metadata": {},
   "outputs": [],
   "source": [
    "#This is for the one-to-one tables. The primary key is VIN(1-10) \n",
    "#Creating a vehicle table\n",
    "\n",
    "sql = ( \"\"\"\n",
    "        CREATE TABLE vehicle\n",
    "        (\n",
    "            vin varchar(32),\n",
    "            make varchar(32),\n",
    "            model varchar(32),\n",
    "            model_year int,\n",
    "            PRIMARY KEY(vin)\n",
    "        )\n",
    "        \"\"\"\n",
    "      )\n",
    "cursor.execute(sql)"
   ]
  },
  {
   "cell_type": "code",
   "execution_count": 163,
   "id": "bb1348c5-e761-428d-9743-ff72be2e90b7",
   "metadata": {},
   "outputs": [],
   "source": [
    "#FIGURE OUT A PRIMARY KEY FOR THIS TABLE\n",
    "sql = ( \"\"\"\n",
    "        CREATE TABLE location\n",
    "        (\n",
    "            dol_id int,\n",
    "            vin varchar(20),\n",
    "            county varchar(32),\n",
    "            city varchar(32),\n",
    "            state varchar(32),\n",
    "            zip_code int,\n",
    "            PRIMARY KEY(dol_id),\n",
    "            FOREIGN KEY (vin) REFERENCES vehicle(vin)\n",
    "        )\n",
    "        \"\"\"\n",
    "      )\n",
    "\n",
    "cursor.execute(sql);"
   ]
  },
  {
   "cell_type": "code",
   "execution_count": null,
   "id": "0c788b6c-27c1-4c32-b318-fdc905d9628d",
   "metadata": {
    "scrolled": true
   },
   "outputs": [],
   "source": []
  },
  {
   "cell_type": "code",
   "execution_count": null,
   "id": "24fe6286-cf13-4406-afa9-8fd3e8707eaa",
   "metadata": {},
   "outputs": [],
   "source": []
  },
  {
   "cell_type": "code",
   "execution_count": 164,
   "id": "bb653b9a-98bb-4b4b-907b-b56b2033913b",
   "metadata": {},
   "outputs": [],
   "source": [
    "#For both of these two tables created, the primary key is the vin, and the foriegn key is in the location table and it is the vin as well"
   ]
  },
  {
   "cell_type": "code",
   "execution_count": null,
   "id": "e1dc5f42-21eb-4ef3-9589-a3083c9ffdf3",
   "metadata": {},
   "outputs": [],
   "source": []
  },
  {
   "cell_type": "code",
   "execution_count": null,
   "id": "273ccd0a-79a6-43d5-abaf-3e2156767570",
   "metadata": {},
   "outputs": [],
   "source": []
  },
  {
   "cell_type": "code",
   "execution_count": 165,
   "id": "5e2deeb5-b461-47c1-a9c0-c9314e2166bc",
   "metadata": {},
   "outputs": [],
   "source": [
    "sql_insert_vehicle = (  \n",
    "    \"\"\"\n",
    "    INSERT INTO vehicle (vin, model_year, make, model)\n",
    "    VALUES (%s, %s, %s, %s)\n",
    "    \"\"\"\n",
    ")"
   ]
  },
  {
   "cell_type": "code",
   "execution_count": 166,
   "id": "27862176-ef9c-4590-864f-deef10e23255",
   "metadata": {},
   "outputs": [],
   "source": [
    "sql_insert_location = ( \n",
    "    \"\"\"\n",
    "    INSERT INTO location (dol_id, vin, county, city, state, zip_code)\n",
    "    VALUES (%s, %s, %s, %s, %s, %s)\n",
    "    \"\"\"\n",
    ")"
   ]
  },
  {
   "cell_type": "code",
   "execution_count": 167,
   "id": "5b316d51-1fa1-450a-9a5e-5b18eac11a5b",
   "metadata": {},
   "outputs": [],
   "source": [
    "def transform_vehicle(row):\n",
    "    #Converting the model_year column and zip-code column to an int\n",
    "    try:\n",
    "      row[1] = int(row[1])\n",
    "    except ValueError:\n",
    "      row[4] = None\n",
    "      row[1] = int(row[1])\n",
    "\n",
    "    return row"
   ]
  },
  {
   "cell_type": "code",
   "execution_count": 168,
   "id": "a7c815a3-ed1b-45f7-9a5f-023f89336666",
   "metadata": {},
   "outputs": [],
   "source": [
    "def transform_location(row):\n",
    "    try:\n",
    "      row[0] = int(row[0])\n",
    "      row[4] = int(row[4])\n",
    "    except ValueError:\n",
    "      row[0] = None\n",
    "      row[4] = None\n",
    "\n",
    "    return row"
   ]
  },
  {
   "cell_type": "code",
   "execution_count": null,
   "id": "17302bf5-0be3-438e-93e8-f476484449d6",
   "metadata": {},
   "outputs": [],
   "source": []
  },
  {
   "cell_type": "code",
   "execution_count": null,
   "id": "e004fdc9-f8f5-43c8-9f57-bdf692560738",
   "metadata": {
    "scrolled": true
   },
   "outputs": [],
   "source": []
  },
  {
   "cell_type": "code",
   "execution_count": 1,
   "id": "9038b2da-483f-40a1-b930-7b1a73e3ddb5",
   "metadata": {
    "scrolled": true
   },
   "outputs": [
    {
     "ename": "NameError",
     "evalue": "name 'csv' is not defined",
     "output_type": "error",
     "traceback": [
      "\u001b[0;31m---------------------------------------------------------------------------\u001b[0m",
      "\u001b[0;31mNameError\u001b[0m                                 Traceback (most recent call last)",
      "Cell \u001b[0;32mIn[1], line 8\u001b[0m\n\u001b[1;32m      6\u001b[0m \u001b[38;5;66;03m#I am reading in the CSV data and limiting it to 100 rows\u001b[39;00m\n\u001b[1;32m      7\u001b[0m \u001b[38;5;28;01mwith\u001b[39;00m \u001b[38;5;28mopen\u001b[39m(\u001b[38;5;124m'\u001b[39m\u001b[38;5;124mElectric_Vehicle_Population_Data.csv\u001b[39m\u001b[38;5;124m'\u001b[39m, newline\u001b[38;5;241m=\u001b[39m\u001b[38;5;124m'\u001b[39m\u001b[38;5;124m'\u001b[39m) \u001b[38;5;28;01mas\u001b[39;00m csv_file:\n\u001b[0;32m----> 8\u001b[0m     read \u001b[38;5;241m=\u001b[39m csv\u001b[38;5;241m.\u001b[39mreader(csv_file, delimiter\u001b[38;5;241m=\u001b[39m\u001b[38;5;124m'\u001b[39m\u001b[38;5;124m,\u001b[39m\u001b[38;5;124m'\u001b[39m, quotechar\u001b[38;5;241m=\u001b[39m\u001b[38;5;124m'\u001b[39m\u001b[38;5;124m\"\u001b[39m\u001b[38;5;124m'\u001b[39m)\n\u001b[1;32m      9\u001b[0m     data \u001b[38;5;241m=\u001b[39m []\n\u001b[1;32m     10\u001b[0m     \u001b[38;5;28;01mfor\u001b[39;00m i, row \u001b[38;5;129;01min\u001b[39;00m \u001b[38;5;28menumerate\u001b[39m(read):\n\u001b[1;32m     11\u001b[0m         \u001b[38;5;66;03m#Stopping after 100 lines are read in\u001b[39;00m\n",
      "\u001b[0;31mNameError\u001b[0m: name 'csv' is not defined"
     ]
    }
   ],
   "source": [
    "import csv\n",
    "\n",
    "vehicle_cols = [0, 5, 6, 7]\n",
    "location_cols = [13, 0, 1, 2, 3, 4]\n",
    "\n",
    "first = True\n",
    "seen_vins = set()\n",
    "\n",
    "with open('Electric_Vehicle_Population_Data.csv', newline='') as csv_file:\n",
    "    reader = csv.reader(csv_file, delimiter=',', quotechar='\"')\n",
    "    \n",
    "   #This is to skip the header row\n",
    "    next(reader, None) \n",
    "\n",
    "    data = []\n",
    "    for i, row in enumerate(reader):\n",
    "        # Stopping after reading 100 data rows\n",
    "        if i >= 100:  \n",
    "            break\n",
    "        data.append(row)\n",
    "for row in data:\n",
    "    if not first:\n",
    "        vin = row[vehicle_cols[0]]  \n",
    "\n",
    "        # Skips over the duplicates found in the file\n",
    "        if vin in seen_vins:\n",
    "            continue  \n",
    "        seen_vins.add(vin)  \n",
    "\n",
    "        # Here I am checking if the VIN already exists within the database for vehicle\n",
    "        cursor.execute(\"SELECT COUNT(*) FROM vehicle WHERE vin = %s\", (vin,))\n",
    "        if cursor.fetchone()[0] > 0:\n",
    "            continue \n",
    "        #This is where we are identifying the specific columns \n",
    "        vehicle_row = [row[i] for i in vehicle_cols]\n",
    "        location_row = [row[i] for i in location_cols]\n",
    "          \n",
    "        #Inserting into repsective tables\n",
    "        cursor.execute(sql_insert_vehicle, vehicle_row)\n",
    "        cursor.execute(sql_insert_location, location_row)\n",
    "\n",
    "    first = False  \n",
    "\n",
    "conn.commit()\n"
   ]
  },
  {
   "cell_type": "code",
   "execution_count": 170,
   "id": "8ce00842-6a9a-4e75-8804-ebb3d4f55da3",
   "metadata": {},
   "outputs": [
    {
     "name": "stdout",
     "output_type": "stream",
     "text": [
      "('1C4JJXN60P', 'JEEP', 'WRANGLER', 2023)\n",
      "('1C4JJXN61P', 'JEEP', 'WRANGLER', 2023)\n",
      "('1C4JJXN62P', 'JEEP', 'WRANGLER', 2023)\n",
      "('1C4JJXN63P', 'JEEP', 'WRANGLER', 2023)\n",
      "('1C4JJXN64P', 'JEEP', 'WRANGLER', 2023)\n",
      "('1C4JJXN65P', 'JEEP', 'WRANGLER', 2023)\n",
      "('1C4JJXN66P', 'JEEP', 'WRANGLER', 2023)\n",
      "('1C4JJXN67P', 'JEEP', 'WRANGLER', 2023)\n",
      "('1C4JJXN68P', 'JEEP', 'WRANGLER', 2023)\n",
      "('1C4JJXN69P', 'JEEP', 'WRANGLER', 2023)\n",
      "('1C4JJXN6XP', 'JEEP', 'WRANGLER', 2023)\n",
      "('1C4JJXP60M', 'JEEP', 'WRANGLER', 2021)\n",
      "('1C4JJXP60N', 'JEEP', 'WRANGLER', 2022)\n",
      "('1C4JJXP60P', 'JEEP', 'WRANGLER', 2023)\n",
      "('1C4JJXP61M', 'JEEP', 'WRANGLER', 2021)\n",
      "('1C4JJXP61N', 'JEEP', 'WRANGLER', 2022)\n",
      "('1C4JJXP61P', 'JEEP', 'WRANGLER', 2023)\n",
      "('1C4JJXP62M', 'JEEP', 'WRANGLER', 2021)\n",
      "('1C4JJXP62N', 'JEEP', 'WRANGLER', 2022)\n",
      "('1C4JJXP62P', 'JEEP', 'WRANGLER', 2023)\n",
      "('1C4JJXP63M', 'JEEP', 'WRANGLER', 2021)\n",
      "('1C4JJXP63N', 'JEEP', 'WRANGLER', 2022)\n",
      "('1C4JJXP63P', 'JEEP', 'WRANGLER', 2023)\n",
      "('1C4JJXP64M', 'JEEP', 'WRANGLER', 2021)\n",
      "('1C4JJXP64N', 'JEEP', 'WRANGLER', 2022)\n"
     ]
    }
   ],
   "source": [
    "sql = (  \n",
    "    \"\"\"\n",
    "    SELECT * FROM vehicle LIMIT 25\n",
    "    \"\"\"\n",
    ")\n",
    "cursor.execute(sql)\n",
    "results = cursor.fetchall()\n",
    "\n",
    "\n",
    "\n",
    "for row in results:\n",
    "    print(row)\n",
    "\n",
    "conn.commit()"
   ]
  },
  {
   "cell_type": "code",
   "execution_count": 171,
   "id": "8f9b642f-9ba9-4bd9-9350-abfbedba44f1",
   "metadata": {},
   "outputs": [
    {
     "name": "stdout",
     "output_type": "stream",
     "text": [
      "(4469, '1G1RB6S51J', 'Jefferson', 'Port Townsend', 'WA', 98368)\n",
      "(201400, 'KNDJP3AE5G', 'King', 'Federal Way', 'WA', 98023)\n",
      "(206762, 'WBY1Z2C51E', 'King', 'Seattle', 'WA', 98118)\n",
      "(296957, '5YJSA1E41G', 'Kitsap', 'Bainbridge Island', 'WA', 98110)\n",
      "(429173, '1G1RB6S55J', 'King', 'Seattle', 'WA', 98177)\n",
      "(546941, '1G1RB6S50H', 'King', 'Seattle', 'WA', 98122)\n",
      "(1238030, 'JA3215H48G', 'Spokane', 'Spokane Valley', 'WA', 99216)\n",
      "(1415298, '1G1RH6E4XE', 'King', 'Seattle', 'WA', 98103)\n",
      "(1495133, 'KMHC05LH0H', 'King', 'Kirkland', 'WA', 98033)\n",
      "(1562389, '1G1RF6E46D', 'Clark', 'Vancouver', 'WA', 98685)\n",
      "(1593721, '3C3CFFGE4E', 'Yakima', 'Yakima', 'WA', 98902)\n",
      "(1708409, '1N4BZ0CP4H', 'King', 'Shoreline', 'WA', 98155)\n",
      "(1802146, '1G6RM1E42G', 'Snohomish', 'Stanwood', 'WA', 98292)\n",
      "(1829285, 'WBY2Z6C54K', 'King', 'Sammamish', 'WA', 98074)\n",
      "(1843054, '5YJXCAE29L', 'Kitsap', 'Silverdale', 'WA', 98383)\n",
      "(1869563, 'KMHE14L29H', 'King', 'Seattle', 'WA', 98146)\n",
      "(1871509, '1G1RA6S55H', 'King', 'Seattle', 'WA', 98133)\n",
      "(1884746, 'WDC0G5EB6K', 'King', 'Seattle', 'WA', 98136)\n",
      "(1923904, 'YV4BR00L9L', 'King', 'Bellevue', 'WA', 98004)\n",
      "(1955208, '5YJXCDE26K', 'King', 'Burien', 'WA', 98146)\n",
      "(1995500, '7JRBR0FL0K', 'King', 'Seattle', 'WA', 98101)\n",
      "(2015611, 'WMEEJ9AA8G', 'Whatcom', 'Ferndale', 'WA', 98248)\n",
      "(2019230, 'YV4BC0PK9G', 'King', 'Kirkland', 'WA', 98033)\n",
      "(2031004, '5UXKT0C51G', 'King', 'Kirkland', 'WA', 98034)\n",
      "(2057373, '1G1RB6E41D', 'King', 'Seattle', 'WA', 98177)\n"
     ]
    }
   ],
   "source": [
    "sql = (  \n",
    "    \"\"\"\n",
    "    SELECT * FROM location LIMIT 25\n",
    "    \"\"\"\n",
    ")\n",
    "cursor.execute(sql)\n",
    "results = cursor.fetchall()\n",
    "\n",
    "if results:\n",
    "    for row in results:\n",
    "        print(row)\n",
    "conn.commit()"
   ]
  },
  {
   "cell_type": "code",
   "execution_count": null,
   "id": "7798cf30-115d-4c18-aac2-eef4a7931ed1",
   "metadata": {},
   "outputs": [],
   "source": [
    "\n"
   ]
  },
  {
   "cell_type": "code",
   "execution_count": 172,
   "id": "92e124df-bfae-4fa1-bec6-1d301e05aea1",
   "metadata": {},
   "outputs": [],
   "source": [
    "cursor.close()\n",
    "conn.close()"
   ]
  },
  {
   "cell_type": "code",
   "execution_count": null,
   "id": "ef64fd1c-bac1-47cf-bab5-8bb4ba575d0c",
   "metadata": {},
   "outputs": [],
   "source": []
  },
  {
   "cell_type": "raw",
   "id": "168aef17-504d-4c7d-ab05-6d6386981191",
   "metadata": {},
   "source": []
  },
  {
   "cell_type": "code",
   "execution_count": 173,
   "id": "e15325ea-57c6-4ee9-b8c3-886c15bb5155",
   "metadata": {},
   "outputs": [],
   "source": []
  }
 ],
 "metadata": {
  "kernelspec": {
   "display_name": "Python [conda env:base] *",
   "language": "python",
   "name": "conda-base-py"
  },
  "language_info": {
   "codemirror_mode": {
    "name": "ipython",
    "version": 3
   },
   "file_extension": ".py",
   "mimetype": "text/x-python",
   "name": "python",
   "nbconvert_exporter": "python",
   "pygments_lexer": "ipython3",
   "version": "3.12.7"
  }
 },
  {
   "cell_type": "code",
   "execution_count": null,
   "metadata": {},
   "outputs": [],
   "source": [
    "df = data\n",
    "# Extracting 50 rows of \"Make\" and \"Model Year\" from CSV (using .loc for label indexing the CSV file)\n",
    "#We only want the UNIQUE values of Make to present the One-to-Many Relationship with the second table.\n",
    "make_and_model_year_data = df.loc[:49, [\"Make\", \"Model Year\"]].groupby(\"Make\").first().reset_index()\n",
    "\n",
    "# Extracting 50 rows of \"Make\", \"Model\", and \"Vehicle Type\" from CSV file.\n",
    "make_model_type_data = df.loc[:49, [\"Make\", \"Model\", \"Electric Vehicle Type\"]]\n",
    "\n",
    "print(\"Make and Model Year Data\")\n",
    "print(make_and_model_year_data.head(25))\n",
    " \n",
    "print(\"\\n Make Model Type Data\")\n",
    "print(make_model_type_data.head(25))"
   ]
  },
  {
   "cell_type": "code",
   "execution_count": null,
   "metadata": {},
   "outputs": [],
   "source": [
    "#Drop table if it already exists\n",
    "cursor.execute('DROP TABLE IF EXISTS make_model_year')\n",
    "cursor.execute('DROP TABLE IF EXISTS make_model_type')\n",
    "\n",
    "#Creating the tables to hold make, year, model, and type of vehicles\n",
    "make_model_year = ( \"\"\"\n",
    "        CREATE TABLE make_model_year\n",
    "        (\n",
    "            make       varchar(32),\n",
    "            year      int,\n",
    "            PRIMARY KEY (make)\n",
    "        )\n",
    "        \"\"\"\n",
    "      )\n",
    "make_model_type = ( \"\"\"\n",
    "        CREATE TABLE make_model_type\n",
    "        (\n",
    "            make       varchar(32),\n",
    "            model   varchar(32),\n",
    "            type        varchar(64)\n",
    "        )\n",
    "        \"\"\"\n",
    "      )\n",
    "\n",
    "cursor.execute(make_model_year);\n",
    "cursor.execute(make_model_type);\n",
    "\n",
    "print(\"Tables created successfully!\")"
   ]
  },
  {
   "cell_type": "code",
   "execution_count": null,
   "metadata": {},
   "outputs": [],
   "source": [
    "#Inserting values into the respective tables\n",
    "sql_insert_make_model_year = (  \n",
    "    \"\"\"\n",
    "    INSERT INTO make_model_year (make, year)\n",
    "    VALUES (%s, %s)\n",
    "    \"\"\"\n",
    ")\n",
    "\n",
    "sql_insert_make_model_type = (  \n",
    "    \"\"\"\n",
    "    INSERT INTO make_model_type (make, model, type)\n",
    "    VALUES (%s, %s, %s)\n",
    "    \"\"\"\n",
    ")\n",
    "\n",
    "#Looping and iterating through the respective DataFrames to insert values into created Databases.\n",
    "for row in make_and_model_year_data.itertuples(index=False, name=None):\n",
    "    cursor.execute(sql_insert_make_model_year, row)\n",
    "print(\"Inserted make and model_year data successfully!\")\n",
    "for row in make_model_type_data.itertuples(index=False, name=None):\n",
    "    cursor.execute(sql_insert_make_model_type, row)\n",
    "print(\"Inserted make, model, and type successfully!\")\n"
   ]
  },
  {
   "cell_type": "code",
   "execution_count": null,
   "metadata": {},
   "outputs": [],
   "source": [
    "#Displaying the one-to-many relationship\n",
    "#where one MAKE can have MULTIPLE MODELS\n",
    "\n",
    "print(\"Make-Model-Year Table\")\n",
    "sql_make_model_year = (\n",
    "    \"\"\"\n",
    "    SELECT * FROM make_model_year LIMIT 25;\n",
    "    \"\"\"\n",
    ")\n",
    "cursor.execute(sql_make_model_year)\n",
    "result_data = cursor.fetchall()\n",
    "for r in result_data:\n",
    "    print(r)\n",
    "\n",
    "print(\"\\nMake-Model-Type Table\")\n",
    "sql_make_model_type = (\n",
    "    \"\"\"\n",
    "    SELECT * FROM make_model_type LIMIT 25;\n",
    "    \"\"\"\n",
    ")\n",
    "cursor.execute(sql_make_model_type)\n",
    "result_data_2 = cursor.fetchall()\n",
    "for r2 in result_data_2:\n",
    "    print(r2)\n"
   ]
  },
  {
   "cell_type": "code",
   "execution_count": null,
   "metadata": {},
   "outputs": [],
   "source": []
  },
  {
   "cell_type": "code",
   "execution_count": null,
   "metadata": {},
   "outputs": [],
   "source": [
    "# Select and clean Makes data (limit to 100 rows)\n",
    "make_data = df[[\"Make\"]].drop_duplicates().head(100)\n",
    "make_data.columns = [\"make_name\"]\n",
    "\n",
    "# Select and clean Counties data (limit to 100 rows)\n",
    "county_data = df[[\"County\"]].drop_duplicates().head(100)\n",
    "county_data.columns = [\"county_name\"]\n",
    "\n",
    "# Extract Make-County Relationships (limit to 100 rows)\n",
    "make_county_data = df[[\"Make\", \"County\"]].drop_duplicates().head(100)\n",
    "make_county_data.columns = [\"make_name\", \"county_name\"]\n",
    "\n",
    "# Display data\n",
    "print(\"Makes Data (First 25 Rows):\")\n",
    "print(make_data.head(25))\n",
    "\n",
    "print(\"\\nCounties Data (First 25 Rows):\")\n",
    "print(county_data.head(25))\n",
    "\n",
    "print(\"\\nMake-County Relationships (First 25 Rows):\")\n",
    "print(make_county_data.head(25))"
   ]
  },
  {
   "cell_type": "code",
   "execution_count": null,
   "metadata": {},
   "outputs": [],
   "source": [
    "with engine.connect() as conn:\n",
    "    # Drop existing tables\n",
    "    conn.execute(text(\"DROP TABLE IF EXISTS make_counties;\"))\n",
    "    conn.execute(text(\"DROP TABLE IF EXISTS makes;\"))\n",
    "    conn.execute(text(\"DROP TABLE IF EXISTS counties;\"))\n",
    "\n",
    "    # Create Makes Table\n",
    "    \n",
    "    conn.execute(text(\"\"\"\n",
    "        CREATE TABLE makes (\n",
    "            make_id INT AUTO_INCREMENT PRIMARY KEY,  -- makes_id is the Primary Key for makes table\n",
    "            make_name VARCHAR(50) UNIQUE NOT NULL    -- Make names must be unique\n",
    "        )\n",
    "    \"\"\"))\n",
    "\n",
    "    # Create Counties Table\n",
    "    conn.execute(text(\"\"\"\n",
    "        CREATE TABLE counties (\n",
    "            county_id INT AUTO_INCREMENT PRIMARY KEY,  -- county_id is the Primary Key for counties table\n",
    "            county_name VARCHAR(100) UNIQUE NOT NULL   -- Each county has a unique name\n",
    "        )\n",
    "    \"\"\"))\n",
    "\n",
    "    # Create Make-County Linking Table\n",
    "    conn.execute(text(\"\"\"\n",
    "        CREATE TABLE make_counties (\n",
    "            make_id INT,    -- Foreign Key referencing the makes table\n",
    "            county_id INT,  -- Foreign Key referencing the counties table\n",
    "            PRIMARY KEY (make_id, county_id),  -- Composite Primary Key that ensures unique pairs\n",
    "            FOREIGN KEY (make_id) REFERENCES makes(make_id) ON DELETE CASCADE,  -- Deletes linked records if make is removed\n",
    "            FOREIGN KEY (county_id) REFERENCES counties(county_id) ON DELETE CASCADE  -- Ensures valid county refrences\n",
    "        )\n",
    "    \"\"\"))\n",
    "\n",
    "    print(\"Tables created successfully!\")\n"
   ]
  },
  {
   "cell_type": "code",
   "execution_count": null,
   "metadata": {},
   "outputs": [],
   "source": [
    "# Insert Makes Data\n",
    "with engine.connect() as conn:\n",
    "    for _, row in make_data.iterrows():\n",
    "        conn.execute(text(\"\"\"\n",
    "            INSERT IGNORE INTO makes (make_name) \n",
    "            VALUES (:make_name)\n",
    "        \"\"\"), row.to_dict())\n",
    "\n",
    "    print(\"Makes inserted successfully!\")\n",
    "\n",
    "# Insert Counties Data\n",
    "with engine.connect() as conn:\n",
    "    for _, row in county_data.iterrows():\n",
    "        conn.execute(text(\"\"\"\n",
    "            INSERT IGNORE INTO counties (county_name) \n",
    "            VALUES (:county_name)\n",
    "        \"\"\"), row.to_dict())\n",
    "\n",
    "    print(\"Counties inserted successfully!\")\n",
    "\n",
    "# Insert Make-County Relationships\n",
    "with engine.connect() as conn:\n",
    "    for _, row in make_county_data.iterrows():\n",
    "        conn.execute(text(\"\"\"\n",
    "            INSERT IGNORE INTO make_counties (make_id, county_id)\n",
    "            SELECT m.make_id, c.county_id\n",
    "            FROM makes m, counties c\n",
    "            WHERE m.make_name = :make_name AND c.county_name = :county_name\n",
    "        \"\"\"), row.to_dict())\n",
    "\n",
    "    print(\"Make-County relationships inserted successfully!\")\n"
   ]
  },
  {
   "cell_type": "code",
   "execution_count": null,
   "metadata": {},
   "outputs": [],
   "source": [
    "# Query and display first 25 rows from each table\n",
    "with engine.connect() as conn:\n",
    "    print(\"\\nMakes Table (First 25 Rows):\")\n",
    "    result = conn.execute(text(\"SELECT * FROM makes LIMIT 25;\"))\n",
    "    for row in result:\n",
    "        print(row)\n",
    "\n",
    "    print(\"\\nCounties Table (First 25 Rows):\")\n",
    "    result = conn.execute(text(\"SELECT * FROM counties LIMIT 25;\"))\n",
    "    for row in result:\n",
    "        print(row)\n",
    "\n",
    "    print(\"\\nMake-County Relationships (First 25 Rows):\")\n",
    "    result = conn.execute(text(\"\"\"\n",
    "        SELECT m.make_name, c.county_name \n",
    "        FROM make_counties mc\n",
    "        JOIN makes m ON mc.make_id = m.make_id\n",
    "        JOIN counties c ON mc.county_id = c.county_id\n",
    "        LIMIT 25;\n",
    "    \"\"\"))\n",
    "    for row in result:\n",
    "        print(row)\n"
   ]
  },
  {
   "cell_type": "code",
   "execution_count": null,
   "metadata": {},
   "outputs": [],
   "source": []
  },
  {
   "cell_type": "code",
   "execution_count": null,
   "metadata": {},
   "outputs": [],
   "source": [
    "#Here are the 5 sql queries joining the above tables:\n",
    "\n",
    "queries = [\n",
    "    \"SELECT v.vin, v.make, v.model, v.model_year, m.year FROM vehicle v JOIN make_model_year m ON v.make = m.make;\",\n",
    "    \"SELECT v.vin, v.make, v.model, mmt.type FROM vehicle v JOIN make_model_type mmt ON v.make = mmt.make AND v.model = mmt.model;\",\n",
    "    \"SELECT mk.make_name, c.county_name FROM makes mk JOIN make_counties mc ON mk.make_id = mc.make_id JOIN counties c ON mc.county_id = c.county_id;\",\n",
    "    \"SELECT v.make, COUNT(v.vin) AS total_vehicles FROM vehicle v GROUP BY v.make;\",\n",
    "    \"SELECT v.vin, v.make, v.model, v.model_year, c.county_name FROM vehicle v JOIN makes mk ON v.make = mk.make_name JOIN make_counties mc ON mk.make_id = mc.make_id JOIN counties c ON mc.county_id = c.county_id WHERE c.county_name = 'Los Angeles County';\"\n",
    "]\n",
    "\n",
    "with engine.connect() as connection:\n",
    "    for query in queries:\n",
    "        result = connection.execute(text(query))\n",
    "        print(result.fetchall())"
   ]
  },
  {
   "cell_type": "code",
   "execution_count": null,
   "metadata": {},
   "outputs": [],
   "source": []
  },
  {
   "cell_type": "code",
   "execution_count": null,
   "metadata": {},
   "outputs": [],
   "source": [
    "cursor.close()\n",
    "conn.close()"
   ]
  },
  {
   "cell_type": "code",
   "execution_count": null,
   "metadata": {},
   "outputs": [],
   "source": []
  }
 ],
 "metadata": {
  "kernelspec": {
   "display_name": "Python 3",
   "language": "python",
   "name": "python3"
  },
  "language_info": {
   "codemirror_mode": {
    "name": "ipython",
    "version": 3
   },
   "file_extension": ".py",
   "mimetype": "text/x-python",
   "name": "python",
   "nbconvert_exporter": "python",
   "pygments_lexer": "ipython3",
   "version": "3.9.6"
  }
 },
 "nbformat": 4,
 "nbformat_minor": 2
}
