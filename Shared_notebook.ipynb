{
 "cells": [
  {
   "cell_type": "code",
   "execution_count": 9,
   "metadata": {},
   "outputs": [],
   "source": [
    "import csv\n",
    "import pandas as pd\n",
    "from sqlalchemy import create_engine, text"
   ]
  },
  {
   "cell_type": "code",
   "execution_count": 5,
   "metadata": {},
   "outputs": [],
   "source": [
    "from mysql.connector import MySQLConnection, Error"
   ]
  },
  {
   "cell_type": "code",
   "execution_count": 6,
   "metadata": {},
   "outputs": [],
   "source": [
    "#Making connection to SQL server\n",
    "def make_connection():\n",
    "    try:\n",
    "        conn = MySQLConnection(host='IES-ADS-ClassDB.sjsu.edu',\n",
    "                               database='querycrew_db',\n",
    "                               user='querycrew_user',\n",
    "                               password='Pomegranate_746')\n",
    "        \n",
    "        if conn.is_connected():\n",
    "            print('Connected to the MySQL database!')\n",
    "            \n",
    "            return conn\n",
    "                \n",
    "    except Error as e:\n",
    "        print('Connection failed.')\n",
    "        print(e)\n",
    "        \n",
    "        return None"
   ]
  },
  {
   "cell_type": "code",
   "execution_count": 7,
   "metadata": {},
   "outputs": [
    {
     "name": "stdout",
     "output_type": "stream",
     "text": [
      "Connection failed.\n",
      "2003: Can't connect to MySQL server on 'IES-ADS-ClassDB.sjsu.edu:3306' (Errno 8: nodename nor servname provided, or not known)\n"
     ]
    },
    {
     "ename": "AttributeError",
     "evalue": "'NoneType' object has no attribute 'cursor'",
     "output_type": "error",
     "traceback": [
      "\u001b[0;31m---------------------------------------------------------------------------\u001b[0m",
      "\u001b[0;31mAttributeError\u001b[0m                            Traceback (most recent call last)",
      "Cell \u001b[0;32mIn[7], line 2\u001b[0m\n\u001b[1;32m      1\u001b[0m conn \u001b[38;5;241m=\u001b[39m make_connection()\n\u001b[0;32m----> 2\u001b[0m cursor \u001b[38;5;241m=\u001b[39m \u001b[43mconn\u001b[49m\u001b[38;5;241;43m.\u001b[39;49m\u001b[43mcursor\u001b[49m()\n",
      "\u001b[0;31mAttributeError\u001b[0m: 'NoneType' object has no attribute 'cursor'"
     ]
    }
   ],
   "source": [
    "conn = make_connection()\n",
    "cursor = conn.cursor()"
   ]
  },
  {
   "cell_type": "code",
   "execution_count": null,
   "metadata": {},
   "outputs": [],
   "source": [
    "cursor.execute('DROP TABLE IF EXISTS location')"
   ]
  },
  {
   "cell_type": "code",
   "execution_count": null,
   "metadata": {},
   "outputs": [],
   "source": [
    "cursor.execute('DROP TABLE IF EXISTS vehicle')"
   ]
  },
  {
   "cell_type": "code",
   "execution_count": null,
   "metadata": {},
   "outputs": [],
   "source": [
    "#This is for the one-to-one tables. The primary key is VIN(1-10) \n",
    "#Creating a vehicle table\n",
    "\n",
    "sql = ( \"\"\"\n",
    "        CREATE TABLE vehicle\n",
    "        (\n",
    "            vin varchar(32),\n",
    "            make varchar(32),\n",
    "            model varchar(32),\n",
    "            model_year int,\n",
    "            PRIMARY KEY(vin)\n",
    "        )\n",
    "        \"\"\"\n",
    "      )\n",
    "cursor.execute(sql)"
   ]
  },
  {
   "cell_type": "code",
   "execution_count": null,
   "metadata": {},
   "outputs": [],
   "source": [
    "#FIGURE OUT A PRIMARY KEY FOR THIS TABLE\n",
    "sql = ( \"\"\"\n",
    "        CREATE TABLE location\n",
    "        (\n",
    "            dol_id int,\n",
    "            vin varchar(20),\n",
    "            county varchar(32),\n",
    "            city varchar(32),\n",
    "            state varchar(32),\n",
    "            zip_code int,\n",
    "            PRIMARY KEY(dol_id),\n",
    "            FOREIGN KEY (vin) REFERENCES vehicle(vin)\n",
    "        )\n",
    "        \"\"\"\n",
    "      )\n",
    "\n",
    "cursor.execute(sql);"
   ]
  },
  {
   "cell_type": "code",
   "execution_count": null,
   "metadata": {},
   "outputs": [],
   "source": []
  },
  {
   "cell_type": "code",
   "execution_count": null,
   "metadata": {},
   "outputs": [],
   "source": [
    "#For both of these two tables created, the primary key is the vin, and the foriegn key is in the location table and it is the vin as well\n",
    "sql_insert_vehicle = (  \n",
    "    \"\"\"\n",
    "    INSERT INTO vehicle (vin, model_year, make, model)\n",
    "    VALUES (%s, %s, %s, %s)\n",
    "    \"\"\"\n",
    ")"
   ]
  },
  {
   "cell_type": "code",
   "execution_count": null,
   "metadata": {},
   "outputs": [],
   "source": [
    "sql_insert_location = ( \n",
    "    \"\"\"\n",
    "    INSERT INTO location (dol_id, vin, county, city, state, zip_code)\n",
    "    VALUES (%s, %s, %s, %s, %s, %s)\n",
    "    \"\"\"\n",
    ")"
   ]
  },
  {
   "cell_type": "code",
   "execution_count": null,
   "metadata": {},
   "outputs": [],
   "source": [
    "def transform_vehicle(row):\n",
    "    #Converting the model_year column and zip-code column to an int\n",
    "    try:\n",
    "      row[1] = int(row[1])\n",
    "    except ValueError:\n",
    "      row[4] = None\n",
    "      row[1] = int(row[1])\n",
    "\n",
    "    return row"
   ]
  },
  {
   "cell_type": "code",
   "execution_count": null,
   "metadata": {},
   "outputs": [],
   "source": [
    "def transform_location(row):\n",
    "    try:\n",
    "      row[0] = int(row[0])\n",
    "      row[4] = int(row[4])\n",
    "    except ValueError:\n",
    "      row[0] = None\n",
    "      row[4] = None\n",
    "\n",
    "    return row"
   ]
  },
  {
   "cell_type": "code",
   "execution_count": null,
   "metadata": {},
   "outputs": [],
   "source": [
    "vehicle_cols = [0, 5, 6, 7]\n",
    "location_cols = [13, 0, 1, 2, 3, 4]\n",
    "first = True\n",
    "seen_vins = set()  \n",
    "\n",
    "# Read CSV data into a list before processing\n",
    "with open('Electric_Vehicle_Population_Data.csv', newline='') as csv_file:\n",
    "    data = list(csv.reader(csv_file, delimiter=',', quotechar='\"'))  \n",
    "\n",
    "for row in data:\n",
    "    if not first:\n",
    "        vin = row[vehicle_cols[0]]  \n",
    "\n",
    "        # Skips over the duplicates found in the file\n",
    "        if vin in seen_vins:\n",
    "            continue  \n",
    "        seen_vins.add(vin)  \n",
    "\n",
    "        # Here I am checking if the VIN already exists within the database for vehicle\n",
    "        cursor.execute(\"SELECT COUNT(*) FROM vehicle WHERE vin = %s\", (vin,))\n",
    "        if cursor.fetchone()[0] > 0:\n",
    "            continue \n",
    "        #This is where we are identifying the specific columns \n",
    "        vehicle_row = [row[i] for i in vehicle_cols]\n",
    "        location_row = [row[i] for i in location_cols]\n",
    "          \n",
    "        #Inserting into repsective tables\n",
    "        cursor.execute(sql_insert_vehicle, vehicle_row)\n",
    "        cursor.execute(sql_insert_location, location_row)\n",
    "\n",
    "    first = False  \n",
    "\n",
    "conn.commit()\n"
   ]
  },
  {
   "cell_type": "code",
   "execution_count": null,
   "metadata": {},
   "outputs": [],
   "source": [
    "sql = (  \n",
    "    \"\"\"\n",
    "    SELECT * FROM vehicle LIMIT 25\n",
    "    \"\"\"\n",
    ")\n",
    "cursor.execute(sql)\n",
    "results = cursor.fetchall()\n",
    "\n",
    "\n",
    "\n",
    "for row in results:\n",
    "    print(row)\n",
    "\n",
    "conn.commit()"
   ]
  },
  {
   "cell_type": "code",
   "execution_count": null,
   "metadata": {},
   "outputs": [],
   "source": [
    "sql = (  \n",
    "    \"\"\"\n",
    "    SELECT * FROM location LIMIT 25\n",
    "    \"\"\"\n",
    ")\n",
    "cursor.execute(sql)\n",
    "results = cursor.fetchall()\n",
    "\n",
    "if results:\n",
    "    for row in results:\n",
    "        print(row)\n",
    "conn.commit()"
   ]
  },
  {
   "cell_type": "code",
   "execution_count": null,
   "metadata": {},
   "outputs": [],
   "source": [
    "df = data\n",
    "# Extracting 50 rows of \"Make\" and \"Model Year\" from CSV (using .loc for label indexing the CSV file)\n",
    "#We only want the UNIQUE values of Make to present the One-to-Many Relationship with the second table.\n",
    "make_and_model_year_data = df.loc[:49, [\"Make\", \"Model Year\"]].groupby(\"Make\").first().reset_index()\n",
    "\n",
    "# Extracting 50 rows of \"Make\", \"Model\", and \"Vehicle Type\" from CSV file.\n",
    "make_model_type_data = df.loc[:49, [\"Make\", \"Model\", \"Electric Vehicle Type\"]]\n",
    "\n",
    "print(\"Make and Model Year Data\")\n",
    "print(make_and_model_year_data.head(25))\n",
    " \n",
    "print(\"\\n Make Model Type Data\")\n",
    "print(make_model_type_data.head(25))"
   ]
  },
  {
   "cell_type": "code",
   "execution_count": null,
   "metadata": {},
   "outputs": [],
   "source": [
    "#Drop table if it already exists\n",
    "cursor.execute('DROP TABLE IF EXISTS make_model_year')\n",
    "cursor.execute('DROP TABLE IF EXISTS make_model_type')\n",
    "\n",
    "#Creating the tables to hold make, year, model, and type of vehicles\n",
    "make_model_year = ( \"\"\"\n",
    "        CREATE TABLE make_model_year\n",
    "        (\n",
    "            make       varchar(32),\n",
    "            year      int,\n",
    "            PRIMARY KEY (make)\n",
    "        )\n",
    "        \"\"\"\n",
    "      )\n",
    "make_model_type = ( \"\"\"\n",
    "        CREATE TABLE make_model_type\n",
    "        (\n",
    "            make       varchar(32),\n",
    "            model   varchar(32),\n",
    "            type        varchar(64)\n",
    "        )\n",
    "        \"\"\"\n",
    "      )\n",
    "\n",
    "cursor.execute(make_model_year);\n",
    "cursor.execute(make_model_type);\n",
    "\n",
    "print(\"Tables created successfully!\")"
   ]
  },
  {
   "cell_type": "code",
   "execution_count": null,
   "metadata": {},
   "outputs": [],
   "source": [
    "#Inserting values into the respective tables\n",
    "sql_insert_make_model_year = (  \n",
    "    \"\"\"\n",
    "    INSERT INTO make_model_year (make, year)\n",
    "    VALUES (%s, %s)\n",
    "    \"\"\"\n",
    ")\n",
    "\n",
    "sql_insert_make_model_type = (  \n",
    "    \"\"\"\n",
    "    INSERT INTO make_model_type (make, model, type)\n",
    "    VALUES (%s, %s, %s)\n",
    "    \"\"\"\n",
    ")\n",
    "\n",
    "#Looping and iterating through the respective DataFrames to insert values into created Databases.\n",
    "for row in make_and_model_year_data.itertuples(index=False, name=None):\n",
    "    cursor.execute(sql_insert_make_model_year, row)\n",
    "print(\"Inserted make and model_year data successfully!\")\n",
    "for row in make_model_type_data.itertuples(index=False, name=None):\n",
    "    cursor.execute(sql_insert_make_model_type, row)\n",
    "print(\"Inserted make, model, and type successfully!\")\n"
   ]
  },
  {
   "cell_type": "code",
   "execution_count": null,
   "metadata": {},
   "outputs": [],
   "source": [
    "#Displaying the one-to-many relationship\n",
    "#where one MAKE can have MULTIPLE MODELS\n",
    "\n",
    "print(\"Make-Model-Year Table\")\n",
    "sql_make_model_year = (\n",
    "    \"\"\"\n",
    "    SELECT * FROM make_model_year LIMIT 25;\n",
    "    \"\"\"\n",
    ")\n",
    "cursor.execute(sql_make_model_year)\n",
    "result_data = cursor.fetchall()\n",
    "for r in result_data:\n",
    "    print(r)\n",
    "\n",
    "print(\"\\nMake-Model-Type Table\")\n",
    "sql_make_model_type = (\n",
    "    \"\"\"\n",
    "    SELECT * FROM make_model_type LIMIT 25;\n",
    "    \"\"\"\n",
    ")\n",
    "cursor.execute(sql_make_model_type)\n",
    "result_data_2 = cursor.fetchall()\n",
    "for r2 in result_data_2:\n",
    "    print(r2)\n"
   ]
  },
  {
   "cell_type": "code",
   "execution_count": null,
   "metadata": {},
   "outputs": [],
   "source": []
  },
  {
   "cell_type": "code",
   "execution_count": null,
   "metadata": {},
   "outputs": [],
   "source": [
    "# Select and clean Makes data (limit to 100 rows)\n",
    "make_data = df[[\"Make\"]].drop_duplicates().head(100)\n",
    "make_data.columns = [\"make_name\"]\n",
    "\n",
    "# Select and clean Counties data (limit to 100 rows)\n",
    "county_data = df[[\"County\"]].drop_duplicates().head(100)\n",
    "county_data.columns = [\"county_name\"]\n",
    "\n",
    "# Extract Make-County Relationships (limit to 100 rows)\n",
    "make_county_data = df[[\"Make\", \"County\"]].drop_duplicates().head(100)\n",
    "make_county_data.columns = [\"make_name\", \"county_name\"]\n",
    "\n",
    "# Display data\n",
    "print(\"Makes Data (First 25 Rows):\")\n",
    "print(make_data.head(25))\n",
    "\n",
    "print(\"\\nCounties Data (First 25 Rows):\")\n",
    "print(county_data.head(25))\n",
    "\n",
    "print(\"\\nMake-County Relationships (First 25 Rows):\")\n",
    "print(make_county_data.head(25))"
   ]
  },
  {
   "cell_type": "code",
   "execution_count": null,
   "metadata": {},
   "outputs": [],
   "source": [
    "with engine.connect() as conn:\n",
    "    # Drop existing tables\n",
    "    conn.execute(text(\"DROP TABLE IF EXISTS make_counties;\"))\n",
    "    conn.execute(text(\"DROP TABLE IF EXISTS makes;\"))\n",
    "    conn.execute(text(\"DROP TABLE IF EXISTS counties;\"))\n",
    "\n",
    "    # Create Makes Table\n",
    "    \n",
    "    conn.execute(text(\"\"\"\n",
    "        CREATE TABLE makes (\n",
    "            make_id INT AUTO_INCREMENT PRIMARY KEY,  -- makes_id is the Primary Key for makes table\n",
    "            make_name VARCHAR(50) UNIQUE NOT NULL    -- Make names must be unique\n",
    "        )\n",
    "    \"\"\"))\n",
    "\n",
    "    # Create Counties Table\n",
    "    conn.execute(text(\"\"\"\n",
    "        CREATE TABLE counties (\n",
    "            county_id INT AUTO_INCREMENT PRIMARY KEY,  -- county_id is the Primary Key for counties table\n",
    "            county_name VARCHAR(100) UNIQUE NOT NULL   -- Each county has a unique name\n",
    "        )\n",
    "    \"\"\"))\n",
    "\n",
    "    # Create Make-County Linking Table\n",
    "    conn.execute(text(\"\"\"\n",
    "        CREATE TABLE make_counties (\n",
    "            make_id INT,    -- Foreign Key referencing the makes table\n",
    "            county_id INT,  -- Foreign Key referencing the counties table\n",
    "            PRIMARY KEY (make_id, county_id),  -- Composite Primary Key that ensures unique pairs\n",
    "            FOREIGN KEY (make_id) REFERENCES makes(make_id) ON DELETE CASCADE,  -- Deletes linked records if make is removed\n",
    "            FOREIGN KEY (county_id) REFERENCES counties(county_id) ON DELETE CASCADE  -- Ensures valid county refrences\n",
    "        )\n",
    "    \"\"\"))\n",
    "\n",
    "    print(\"Tables created successfully!\")\n"
   ]
  },
  {
   "cell_type": "code",
   "execution_count": null,
   "metadata": {},
   "outputs": [],
   "source": [
    "# Insert Makes Data\n",
    "with engine.connect() as conn:\n",
    "    for _, row in make_data.iterrows():\n",
    "        conn.execute(text(\"\"\"\n",
    "            INSERT IGNORE INTO makes (make_name) \n",
    "            VALUES (:make_name)\n",
    "        \"\"\"), row.to_dict())\n",
    "\n",
    "    print(\"Makes inserted successfully!\")\n",
    "\n",
    "# Insert Counties Data\n",
    "with engine.connect() as conn:\n",
    "    for _, row in county_data.iterrows():\n",
    "        conn.execute(text(\"\"\"\n",
    "            INSERT IGNORE INTO counties (county_name) \n",
    "            VALUES (:county_name)\n",
    "        \"\"\"), row.to_dict())\n",
    "\n",
    "    print(\"Counties inserted successfully!\")\n",
    "\n",
    "# Insert Make-County Relationships\n",
    "with engine.connect() as conn:\n",
    "    for _, row in make_county_data.iterrows():\n",
    "        conn.execute(text(\"\"\"\n",
    "            INSERT IGNORE INTO make_counties (make_id, county_id)\n",
    "            SELECT m.make_id, c.county_id\n",
    "            FROM makes m, counties c\n",
    "            WHERE m.make_name = :make_name AND c.county_name = :county_name\n",
    "        \"\"\"), row.to_dict())\n",
    "\n",
    "    print(\"Make-County relationships inserted successfully!\")\n"
   ]
  },
  {
   "cell_type": "code",
   "execution_count": null,
   "metadata": {},
   "outputs": [],
   "source": [
    "# Query and display first 25 rows from each table\n",
    "with engine.connect() as conn:\n",
    "    print(\"\\nMakes Table (First 25 Rows):\")\n",
    "    result = conn.execute(text(\"SELECT * FROM makes LIMIT 25;\"))\n",
    "    for row in result:\n",
    "        print(row)\n",
    "\n",
    "    print(\"\\nCounties Table (First 25 Rows):\")\n",
    "    result = conn.execute(text(\"SELECT * FROM counties LIMIT 25;\"))\n",
    "    for row in result:\n",
    "        print(row)\n",
    "\n",
    "    print(\"\\nMake-County Relationships (First 25 Rows):\")\n",
    "    result = conn.execute(text(\"\"\"\n",
    "        SELECT m.make_name, c.county_name \n",
    "        FROM make_counties mc\n",
    "        JOIN makes m ON mc.make_id = m.make_id\n",
    "        JOIN counties c ON mc.county_id = c.county_id\n",
    "        LIMIT 25;\n",
    "    \"\"\"))\n",
    "    for row in result:\n",
    "        print(row)\n"
   ]
  },
  {
   "cell_type": "code",
   "execution_count": null,
   "metadata": {},
   "outputs": [],
   "source": []
  },
  {
   "cell_type": "code",
   "execution_count": null,
   "metadata": {},
   "outputs": [],
   "source": [
    "#Here are the 5 sql queries joining the above tables:\n",
    "\n",
    "queries = [\n",
    "    \"SELECT v.vin, v.make, v.model, v.model_year, m.year FROM vehicle v JOIN make_model_year m ON v.make = m.make;\",\n",
    "    \"SELECT v.vin, v.make, v.model, mmt.type FROM vehicle v JOIN make_model_type mmt ON v.make = mmt.make AND v.model = mmt.model;\",\n",
    "    \"SELECT mk.make_name, c.county_name FROM makes mk JOIN make_counties mc ON mk.make_id = mc.make_id JOIN counties c ON mc.county_id = c.county_id;\",\n",
    "    \"SELECT v.make, COUNT(v.vin) AS total_vehicles FROM vehicle v GROUP BY v.make;\",\n",
    "    \"SELECT v.vin, v.make, v.model, v.model_year, c.county_name FROM vehicle v JOIN makes mk ON v.make = mk.make_name JOIN make_counties mc ON mk.make_id = mc.make_id JOIN counties c ON mc.county_id = c.county_id WHERE c.county_name = 'Los Angeles County';\"\n",
    "]\n",
    "\n",
    "with engine.connect() as connection:\n",
    "    for query in queries:\n",
    "        result = connection.execute(text(query))\n",
    "        print(result.fetchall())"
   ]
  },
  {
   "cell_type": "code",
   "execution_count": null,
   "metadata": {},
   "outputs": [],
   "source": []
  },
  {
   "cell_type": "code",
   "execution_count": null,
   "metadata": {},
   "outputs": [],
   "source": [
    "cursor.close()\n",
    "conn.close()"
   ]
  },
  {
   "cell_type": "code",
   "execution_count": null,
   "metadata": {},
   "outputs": [],
   "source": []
  }
 ],
 "metadata": {
  "kernelspec": {
   "display_name": "Python 3",
   "language": "python",
   "name": "python3"
  },
  "language_info": {
   "codemirror_mode": {
    "name": "ipython",
    "version": 3
   },
   "file_extension": ".py",
   "mimetype": "text/x-python",
   "name": "python",
   "nbconvert_exporter": "python",
   "pygments_lexer": "ipython3",
   "version": "3.9.6"
  }
 },
 "nbformat": 4,
 "nbformat_minor": 2
}
