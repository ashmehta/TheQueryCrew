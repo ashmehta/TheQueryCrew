{
 "cells": [
  {
   "cell_type": "code",
   "execution_count": 1,
   "id": "47aa5fdd",
   "metadata": {},
   "outputs": [],
   "source": [
    "import csv\n",
    "import pandas as pd\n",
    "from sqlalchemy import create_engine, text"
   ]
  },
  {
   "cell_type": "code",
   "execution_count": 2,
   "id": "077d4b00",
   "metadata": {},
   "outputs": [],
   "source": [
    "from mysql.connector import MySQLConnection, Error"
   ]
  },
  {
   "cell_type": "code",
   "execution_count": 3,
   "id": "b7528119",
   "metadata": {},
   "outputs": [],
   "source": [
    "# Making connection to SQL server\n",
    "def make_connection():\n",
    "    try:\n",
    "        conn = MySQLConnection(host='IES-ADS-ClassDB.sjsu.edu',\n",
    "                               database='querycrew_db',\n",
    "                               user='querycrew_user',\n",
    "                               password='Pomegranate_746')\n",
    "        \n",
    "        if conn.is_connected():\n",
    "            print('Connected to the MySQL database!')\n",
    "            \n",
    "            return conn\n",
    "                \n",
    "    except Error as e:\n",
    "        print('Connection failed.')\n",
    "        print(e)\n",
    "        \n",
    "        return None"
   ]
  },
  {
   "cell_type": "code",
   "execution_count": 4,
   "id": "b8bf4c49",
   "metadata": {},
   "outputs": [
    {
     "name": "stdout",
     "output_type": "stream",
     "text": [
      "Connected to the MySQL database!\n"
     ]
    }
   ],
   "source": [
    "conn = make_connection()\n",
    "cursor = conn.cursor()"
   ]
  },
  {
   "cell_type": "code",
   "execution_count": 5,
   "id": "41aa12a1",
   "metadata": {},
   "outputs": [
    {
     "name": "stdout",
     "output_type": "stream",
     "text": [
      "All tables dropped successfully!\n"
     ]
    }
   ],
   "source": [
    "cursor.execute(\"DROP TABLE IF EXISTS driver;\")\n",
    "cursor.execute(\"DROP TABLE IF EXISTS location;\")\n",
    "cursor.execute(\"DROP TABLE IF EXISTS vehicle;\")\n",
    "cursor.execute(\"DROP TABLE IF EXISTS station;\")\n",
    "cursor.execute(\"DROP TABLE IF EXISTS county;\")\n",
    "cursor.execute(\"DROP TABLE IF EXISTS IsLocatedIn;\") \n",
    "\n",
    "conn.commit()\n",
    "print(\"All tables dropped successfully!\")\n"
   ]
  },
  {
   "cell_type": "code",
   "execution_count": 6,
   "id": "1d91baf3",
   "metadata": {
    "scrolled": false
   },
   "outputs": [
    {
     "name": "stdout",
     "output_type": "stream",
     "text": [
      "Tables county, station, vehicle, location, and driver created successfully!\n"
     ]
    }
   ],
   "source": [
    "# Create county table\n",
    "create_county_table = \"\"\"\n",
    "CREATE TABLE county (\n",
    "    county_id INT NOT NULL PRIMARY KEY,\n",
    "    county_name VARCHAR(255) NOT NULL\n",
    ");\n",
    "\"\"\"\n",
    "\n",
    "# Create station table\n",
    "create_station_table = \"\"\"\n",
    "CREATE TABLE station (\n",
    "    station_id INT NOT NULL PRIMARY KEY,\n",
    "    station_name VARCHAR(255) NOT NULL\n",
    ");\n",
    "\"\"\"\n",
    "\n",
    "# Create vehicle table\n",
    "create_vehicle_table = \"\"\"\n",
    "CREATE TABLE vehicle (\n",
    "    vin VARCHAR(17) NOT NULL PRIMARY KEY,\n",
    "    model_year INT NOT NULL,\n",
    "    base_msrp DECIMAL(10, 2),\n",
    "    make VARCHAR(100) NOT NULL,\n",
    "    model VARCHAR(100) NOT NULL\n",
    ");\n",
    "\"\"\"\n",
    "\n",
    "# Create location table\n",
    "create_location_table = \"\"\"\n",
    "CREATE TABLE location (\n",
    "    DOL_ID INT NOT NULL PRIMARY KEY,\n",
    "    zip_code VARCHAR(10) NOT NULL,\n",
    "    city VARCHAR(100) NOT NULL,\n",
    "    state VARCHAR(50) NOT NULL,\n",
    "    vin VARCHAR(17) NOT NULL,\n",
    "    station_id INT NOT NULL,\n",
    "    county_id INT NOT NULL,\n",
    "    FOREIGN KEY (vin) REFERENCES vehicle(vin),\n",
    "    FOREIGN KEY (station_id) REFERENCES station(station_id),\n",
    "    FOREIGN KEY (county_id) REFERENCES county(county_id)\n",
    ");\n",
    "\"\"\"\n",
    "\n",
    "# Create driver table\n",
    "create_driver_table = \"\"\"\n",
    "CREATE TABLE driver (\n",
    "    email VARCHAR(255) NOT NULL PRIMARY KEY,\n",
    "    first_name VARCHAR(100) NOT NULL,\n",
    "    last_name VARCHAR(100) NOT NULL,\n",
    "    vin VARCHAR(17) NOT NULL,\n",
    "    FOREIGN KEY (vin) REFERENCES vehicle(vin)\n",
    ");\n",
    "\"\"\"\n",
    "\n",
    "# Execute table creation\n",
    "cursor.execute(create_county_table)\n",
    "cursor.execute(create_station_table)\n",
    "cursor.execute(create_vehicle_table)\n",
    "cursor.execute(create_location_table)\n",
    "cursor.execute(create_driver_table)\n",
    "\n",
    "conn.commit()\n",
    "print(\"Tables county, station, vehicle, location, and driver created successfully!\")\n"
   ]
  },
  {
   "cell_type": "code",
   "execution_count": 7,
   "id": "0633c175",
   "metadata": {},
   "outputs": [
    {
     "name": "stdout",
     "output_type": "stream",
     "text": [
      "Data inserted into county, station, and vehicle successfully!\n"
     ]
    }
   ],
   "source": [
    "# Insert data into county\n",
    "insert_county = \"\"\"\n",
    "INSERT INTO county (county_id, county_name) VALUES \n",
    "(1, 'Santa Clara'), (2, 'Alameda'), (3, 'San Francisco'), (4, 'San Mateo'), (5, 'Contra Costa');\n",
    "\"\"\"\n",
    "\n",
    "# Insert data into station\n",
    "insert_station = \"\"\"\n",
    "INSERT INTO station (station_id, station_name) VALUES \n",
    "(101, 'San Jose Test Center'), \n",
    "(102, 'Oakland Inspection Hub'), \n",
    "(103, 'San Francisco Checkpoint'), \n",
    "(104, 'Redwood City Station'), \n",
    "(105, 'Fremont Auto Test');\n",
    "\"\"\"\n",
    "\n",
    "# Insert data into vehicle\n",
    "insert_vehicle = \"\"\"\n",
    "INSERT INTO vehicle (vin, model_year, base_msrp, make, model) VALUES \n",
    "('1HGBH41JXMN109186', 2020, 35000.00, 'Toyota', 'Camry'),\n",
    "('2FTHF26H9LC123456', 2019, 42000.00, 'Ford', 'F-150'),\n",
    "('3N1AB7AP3JL567890', 2021, 25000.00, 'Nissan', 'Sentra'),\n",
    "('4T1BF1FK0HU765432', 2022, 28000.00, 'Honda', 'Accord'),\n",
    "('5YJSA1E26HF789012', 2023, 55000.00, 'Tesla', 'Model S');\n",
    "\"\"\"\n",
    "\n",
    "cursor.execute(insert_county)\n",
    "cursor.execute(insert_station)\n",
    "cursor.execute(insert_vehicle)\n",
    "conn.commit()\n",
    "\n",
    "print(\"Data inserted into county, station, and vehicle successfully!\")\n"
   ]
  },
  {
   "cell_type": "code",
   "execution_count": 8,
   "id": "59ef2e6a",
   "metadata": {},
   "outputs": [
    {
     "name": "stdout",
     "output_type": "stream",
     "text": [
      "Data inserted into location successfully!\n"
     ]
    }
   ],
   "source": [
    "insert_location = \"\"\"\n",
    "INSERT INTO location (DOL_ID, zip_code, city, state, vin, station_id, county_id) VALUES \n",
    "(301, '95112', 'San Jose', 'CA', '1HGBH41JXMN109186', 101, 1),\n",
    "(302, '94601', 'Oakland', 'CA', '2FTHF26H9LC123456', 102, 2),\n",
    "(303, '94103', 'San Francisco', 'CA', '3N1AB7AP3JL567890', 103, 3),\n",
    "(304, '94063', 'Redwood City', 'CA', '4T1BF1FK0HU765432', 104, 4),\n",
    "(305, '94536', 'Fremont', 'CA', '5YJSA1E26HF789012', 105, 5);\n",
    "\"\"\"\n",
    "\n",
    "cursor.execute(insert_location)\n",
    "conn.commit()\n",
    "print(\"Data inserted into location successfully!\")\n"
   ]
  },
  {
   "cell_type": "code",
   "execution_count": 9,
   "id": "dfa5082c",
   "metadata": {},
   "outputs": [
    {
     "name": "stdout",
     "output_type": "stream",
     "text": [
      "Data inserted into driver successfully!\n"
     ]
    }
   ],
   "source": [
    "insert_driver = \"\"\"\n",
    "INSERT INTO driver (email, first_name, last_name, vin) VALUES \n",
    "('john.doe@gmail.com', 'John', 'Doe', '1HGBH41JXMN109186'),\n",
    "('jane.smith@gmail.com', 'Jane', 'Smith', '2FTHF26H9LC123456'),\n",
    "('alice.johnson@gmail.com', 'Alice', 'Johnson', '3N1AB7AP3JL567890'),\n",
    "('bob.brown@gmail.com', 'Bob', 'Brown', '4T1BF1FK0HU765432'),\n",
    "('charlie.davis@gmail.com', 'Charlie', 'Davis', '5YJSA1E26HF789012');\n",
    "\"\"\"\n",
    "\n",
    "cursor.execute(insert_driver)\n",
    "conn.commit()\n",
    "print(\"Data inserted into driver successfully!\")\n"
   ]
  },
  {
   "cell_type": "code",
   "execution_count": 10,
   "id": "69fabde2",
   "metadata": {},
   "outputs": [
    {
     "name": "stdout",
     "output_type": "stream",
     "text": [
      "\n",
      "Table: location\n"
     ]
    },
    {
     "name": "stderr",
     "output_type": "stream",
     "text": [
      "/Users/keon/opt/anaconda3/lib/python3.9/site-packages/pandas/io/sql.py:762: UserWarning: pandas only support SQLAlchemy connectable(engine/connection) ordatabase string URI or sqlite3 DBAPI2 connectionother DBAPI2 objects are not tested, please consider using SQLAlchemy\n",
      "  warnings.warn(\n"
     ]
    },
    {
     "data": {
      "text/html": [
       "<div>\n",
       "<style scoped>\n",
       "    .dataframe tbody tr th:only-of-type {\n",
       "        vertical-align: middle;\n",
       "    }\n",
       "\n",
       "    .dataframe tbody tr th {\n",
       "        vertical-align: top;\n",
       "    }\n",
       "\n",
       "    .dataframe thead th {\n",
       "        text-align: right;\n",
       "    }\n",
       "</style>\n",
       "<table border=\"1\" class=\"dataframe\">\n",
       "  <thead>\n",
       "    <tr style=\"text-align: right;\">\n",
       "      <th></th>\n",
       "      <th>DOL_ID</th>\n",
       "      <th>zip_code</th>\n",
       "      <th>city</th>\n",
       "      <th>state</th>\n",
       "      <th>vin</th>\n",
       "      <th>station_id</th>\n",
       "      <th>county_id</th>\n",
       "    </tr>\n",
       "  </thead>\n",
       "  <tbody>\n",
       "    <tr>\n",
       "      <th>0</th>\n",
       "      <td>301</td>\n",
       "      <td>95112</td>\n",
       "      <td>San Jose</td>\n",
       "      <td>CA</td>\n",
       "      <td>1HGBH41JXMN109186</td>\n",
       "      <td>101</td>\n",
       "      <td>1</td>\n",
       "    </tr>\n",
       "    <tr>\n",
       "      <th>1</th>\n",
       "      <td>302</td>\n",
       "      <td>94601</td>\n",
       "      <td>Oakland</td>\n",
       "      <td>CA</td>\n",
       "      <td>2FTHF26H9LC123456</td>\n",
       "      <td>102</td>\n",
       "      <td>2</td>\n",
       "    </tr>\n",
       "    <tr>\n",
       "      <th>2</th>\n",
       "      <td>303</td>\n",
       "      <td>94103</td>\n",
       "      <td>San Francisco</td>\n",
       "      <td>CA</td>\n",
       "      <td>3N1AB7AP3JL567890</td>\n",
       "      <td>103</td>\n",
       "      <td>3</td>\n",
       "    </tr>\n",
       "    <tr>\n",
       "      <th>3</th>\n",
       "      <td>304</td>\n",
       "      <td>94063</td>\n",
       "      <td>Redwood City</td>\n",
       "      <td>CA</td>\n",
       "      <td>4T1BF1FK0HU765432</td>\n",
       "      <td>104</td>\n",
       "      <td>4</td>\n",
       "    </tr>\n",
       "    <tr>\n",
       "      <th>4</th>\n",
       "      <td>305</td>\n",
       "      <td>94536</td>\n",
       "      <td>Fremont</td>\n",
       "      <td>CA</td>\n",
       "      <td>5YJSA1E26HF789012</td>\n",
       "      <td>105</td>\n",
       "      <td>5</td>\n",
       "    </tr>\n",
       "  </tbody>\n",
       "</table>\n",
       "</div>"
      ],
      "text/plain": [
       "   DOL_ID zip_code           city state                vin  station_id  \\\n",
       "0     301    95112       San Jose    CA  1HGBH41JXMN109186         101   \n",
       "1     302    94601        Oakland    CA  2FTHF26H9LC123456         102   \n",
       "2     303    94103  San Francisco    CA  3N1AB7AP3JL567890         103   \n",
       "3     304    94063   Redwood City    CA  4T1BF1FK0HU765432         104   \n",
       "4     305    94536        Fremont    CA  5YJSA1E26HF789012         105   \n",
       "\n",
       "   county_id  \n",
       "0          1  \n",
       "1          2  \n",
       "2          3  \n",
       "3          4  \n",
       "4          5  "
      ]
     },
     "metadata": {},
     "output_type": "display_data"
    },
    {
     "name": "stdout",
     "output_type": "stream",
     "text": [
      "\n",
      "Table: driver\n"
     ]
    },
    {
     "name": "stderr",
     "output_type": "stream",
     "text": [
      "/Users/keon/opt/anaconda3/lib/python3.9/site-packages/pandas/io/sql.py:762: UserWarning: pandas only support SQLAlchemy connectable(engine/connection) ordatabase string URI or sqlite3 DBAPI2 connectionother DBAPI2 objects are not tested, please consider using SQLAlchemy\n",
      "  warnings.warn(\n"
     ]
    },
    {
     "data": {
      "text/html": [
       "<div>\n",
       "<style scoped>\n",
       "    .dataframe tbody tr th:only-of-type {\n",
       "        vertical-align: middle;\n",
       "    }\n",
       "\n",
       "    .dataframe tbody tr th {\n",
       "        vertical-align: top;\n",
       "    }\n",
       "\n",
       "    .dataframe thead th {\n",
       "        text-align: right;\n",
       "    }\n",
       "</style>\n",
       "<table border=\"1\" class=\"dataframe\">\n",
       "  <thead>\n",
       "    <tr style=\"text-align: right;\">\n",
       "      <th></th>\n",
       "      <th>email</th>\n",
       "      <th>first_name</th>\n",
       "      <th>last_name</th>\n",
       "      <th>vin</th>\n",
       "    </tr>\n",
       "  </thead>\n",
       "  <tbody>\n",
       "    <tr>\n",
       "      <th>0</th>\n",
       "      <td>alice.johnson@gmail.com</td>\n",
       "      <td>Alice</td>\n",
       "      <td>Johnson</td>\n",
       "      <td>3N1AB7AP3JL567890</td>\n",
       "    </tr>\n",
       "    <tr>\n",
       "      <th>1</th>\n",
       "      <td>bob.brown@gmail.com</td>\n",
       "      <td>Bob</td>\n",
       "      <td>Brown</td>\n",
       "      <td>4T1BF1FK0HU765432</td>\n",
       "    </tr>\n",
       "    <tr>\n",
       "      <th>2</th>\n",
       "      <td>charlie.davis@gmail.com</td>\n",
       "      <td>Charlie</td>\n",
       "      <td>Davis</td>\n",
       "      <td>5YJSA1E26HF789012</td>\n",
       "    </tr>\n",
       "    <tr>\n",
       "      <th>3</th>\n",
       "      <td>jane.smith@gmail.com</td>\n",
       "      <td>Jane</td>\n",
       "      <td>Smith</td>\n",
       "      <td>2FTHF26H9LC123456</td>\n",
       "    </tr>\n",
       "    <tr>\n",
       "      <th>4</th>\n",
       "      <td>john.doe@gmail.com</td>\n",
       "      <td>John</td>\n",
       "      <td>Doe</td>\n",
       "      <td>1HGBH41JXMN109186</td>\n",
       "    </tr>\n",
       "  </tbody>\n",
       "</table>\n",
       "</div>"
      ],
      "text/plain": [
       "                     email first_name last_name                vin\n",
       "0  alice.johnson@gmail.com      Alice   Johnson  3N1AB7AP3JL567890\n",
       "1      bob.brown@gmail.com        Bob     Brown  4T1BF1FK0HU765432\n",
       "2  charlie.davis@gmail.com    Charlie     Davis  5YJSA1E26HF789012\n",
       "3     jane.smith@gmail.com       Jane     Smith  2FTHF26H9LC123456\n",
       "4       john.doe@gmail.com       John       Doe  1HGBH41JXMN109186"
      ]
     },
     "metadata": {},
     "output_type": "display_data"
    },
    {
     "name": "stdout",
     "output_type": "stream",
     "text": [
      "Connection closed.\n"
     ]
    }
   ],
   "source": [
    "import pandas as pd\n",
    "\n",
    "# Function to display table contents\n",
    "def display_table(table_name):\n",
    "    query = f\"SELECT * FROM {table_name};\"\n",
    "    df = pd.read_sql(query, conn)\n",
    "    print(f\"\\nTable: {table_name}\")\n",
    "    display(df)\n",
    "\n",
    "# Display location and driver tables\n",
    "display_table(\"location\")\n",
    "display_table(\"driver\")\n",
    "\n",
    "# Close connection\n",
    "conn.close()\n",
    "print(\"Connection closed.\")\n"
   ]
  }
 ],
 "metadata": {
  "kernelspec": {
   "display_name": "Python 3 (ipykernel)",
   "language": "python",
   "name": "python3"
  },
  "language_info": {
   "codemirror_mode": {
    "name": "ipython",
    "version": 3
   },
   "file_extension": ".py",
   "mimetype": "text/x-python",
   "name": "python",
   "nbconvert_exporter": "python",
   "pygments_lexer": "ipython3",
   "version": "3.9.13"
  }
 },
 "nbformat": 4,
 "nbformat_minor": 5
}
