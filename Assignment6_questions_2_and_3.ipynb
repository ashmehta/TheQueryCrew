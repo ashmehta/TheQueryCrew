{
 "cells": [
  {
   "cell_type": "code",
   "execution_count": 1,
   "id": "e9d88189-fde0-4282-b632-418e73edc1c7",
   "metadata": {},
   "outputs": [],
   "source": [
    "from mysql.connector import MySQLConnection, Error"
   ]
  },
  {
   "cell_type": "code",
   "execution_count": 2,
   "id": "a06cb260-3680-403d-b10f-ae93d29c13c4",
   "metadata": {},
   "outputs": [],
   "source": [
    "def make_connection():\n",
    "    \"\"\"\n",
    "    Make a connection to the school database.\n",
    "    \"\"\"\n",
    "    try:\n",
    "        conn = MySQLConnection(host='IES-ADS-ClassDB.sjsu.edu',\n",
    "                               database='querycrew_db',\n",
    "                               user='querycrew_user',\n",
    "                               password='Pomegranate_746')\n",
    "        \n",
    "        if conn.is_connected():\n",
    "            print('Connected to the MySQL database!')\n",
    "            \n",
    "            return conn\n",
    "                \n",
    "    except Error as e:\n",
    "        print('Connection failed.')\n",
    "        print(e)\n",
    "        \n",
    "        return None"
   ]
  },
  {
   "cell_type": "code",
   "execution_count": 3,
   "id": "539adc78-c6eb-4415-8347-f7be8394cb2a",
   "metadata": {},
   "outputs": [
    {
     "name": "stdout",
     "output_type": "stream",
     "text": [
      "Connected to the MySQL database!\n"
     ]
    }
   ],
   "source": [
    "conn = make_connection()\n",
    "cursor = conn.cursor()"
   ]
  },
  {
   "cell_type": "markdown",
   "id": "3b3e7426-875e-4838-b968-32fb1f2e7249",
   "metadata": {},
   "source": [
    "For the following problem, I am trying to use the 'GROUP BY' function. The objective of this querry is to return the counts of the make and models of all cars that have a model_year of 2020 or newer."
   ]
  },
  {
   "cell_type": "code",
   "execution_count": 5,
   "id": "b37b1718-a602-4e5a-9bc3-2dcd8c604a78",
   "metadata": {},
   "outputs": [
    {
     "name": "stdout",
     "output_type": "stream",
     "text": [
      "('Toyota', 'Corolla', 1)\n",
      "('Honda', 'Civic', 1)\n",
      "('Tesla', 'Model S', 1)\n"
     ]
    }
   ],
   "source": [
    "sql = ( \n",
    "    \"\"\"\n",
    "    SELECT make, model, COUNT(model_year) AS num_model_years\n",
    "    FROM vehicle\n",
    "    WHERE model_year > 2020\n",
    "    GROUP BY make, model;      \n",
    "    \"\"\"\n",
    ")\n",
    "\n",
    "cursor.execute(sql)\n",
    "rows = cursor.fetchall()\n",
    "\n",
    "for row in rows:\n",
    "    print(row)"
   ]
  },
  {
   "cell_type": "markdown",
   "id": "ae0054ff-9af3-498c-9d94-6a3abec568b0",
   "metadata": {},
   "source": [
    "In the following querry below, I am going to use GROUP BY HAVING. This query groups the vehicles by make and model, then counts the number of VINs for each group, and it returns only those make and models that appear more than 5 times in the data."
   ]
  },
  {
   "cell_type": "code",
   "execution_count": 7,
   "id": "294fcc93-fc3c-40d3-b2c7-5807ae5ff3f8",
   "metadata": {},
   "outputs": [
    {
     "name": "stdout",
     "output_type": "stream",
     "text": [
      "('JEEP', 'WRANGLER', 27)\n",
      "('CHEVROLET', 'BOLT EV', 49)\n",
      "('BMW', 'I3', 22)\n",
      "('TESLA', 'MODEL 3', 157)\n",
      "('TESLA', 'MODEL S', 80)\n",
      "('BMW', '530E', 7)\n",
      "('TESLA', 'MODEL X', 61)\n",
      "('NISSAN', 'LEAF', 97)\n",
      "('KIA', 'EV6', 20)\n",
      "('TESLA', 'MODEL Y', 134)\n",
      "('TOYOTA', 'PRIUS PRIME', 28)\n",
      "('RIVIAN', 'R1T', 13)\n",
      "('VOLVO', 'XC60', 17)\n",
      "('BMW', 'X5', 18)\n",
      "('FIAT', '500', 7)\n",
      "('CHEVROLET', 'BOLT EUV', 24)\n",
      "('MAZDA', 'CX-90', 13)\n",
      "('KIA', 'NIRO', 32)\n",
      "('VOLVO', 'XC90', 21)\n",
      "('RIVIAN', 'R1S', 20)\n",
      "('AUDI', 'E-TRON', 13)\n",
      "('BMW', 'IX', 7)\n",
      "('CHRYSLER', 'PACIFICA', 18)\n",
      "('KIA', 'SOUL', 9)\n",
      "('FORD', 'F-150', 19)\n",
      "('AUDI', 'Q5 E', 10)\n",
      "('CHEVROLET', 'VOLT', 34)\n",
      "('KIA', 'SORENTO', 8)\n",
      "('JEEP', 'GRAND CHEROKEE', 6)\n",
      "('TOYOTA', 'RAV4 PRIME', 26)\n",
      "('AUDI', 'A3', 7)\n",
      "('HONDA', 'CLARITY', 7)\n",
      "('FORD', 'C-MAX', 12)\n",
      "('MITSUBISHI', 'OUTLANDER', 8)\n",
      "('TOYOTA', 'PRIUS PLUG-IN', 7)\n",
      "('KIA', 'SPORTAGE', 6)\n",
      "('VOLKSWAGEN', 'ID.4', 26)\n",
      "('SUBARU', 'SOLTERRA', 9)\n",
      "('NISSAN', 'ARIYA', 14)\n",
      "('VOLKSWAGEN', 'E-GOLF', 13)\n",
      "('FORD', 'FUSION', 11)\n",
      "('HYUNDAI', 'IONIQ 5', 23)\n",
      "('FORD', 'MUSTANG MACH-E', 28)\n",
      "('FORD', 'TRANSIT', 7)\n",
      "('TOYOTA', 'BZ4X', 8)\n",
      "('HYUNDAI', 'KONA ELECTRIC', 8)\n",
      "('KIA', 'EV9', 7)\n",
      "('PORSCHE', 'TAYCAN', 9)\n",
      "('BMW', 'I4', 16)\n",
      "('VOLVO', 'XC40', 14)\n",
      "('MERCEDES-BENZ', 'EQB-CLASS', 8)\n",
      "('CHEVROLET', 'EQUINOX EV', 6)\n",
      "('HONDA', 'PROLOGUE', 6)\n",
      "('CADILLAC', 'LYRIQ', 10)\n"
     ]
    }
   ],
   "source": [
    "sql = ( \n",
    "    \"\"\"\n",
    "    SELECT make, model, COUNT(vin) AS vehicle_count\n",
    "    FROM vehicles\n",
    "    GROUP BY make, model\n",
    "    HAVING COUNT(vin) > 5;      \n",
    "    \"\"\"\n",
    ")\n",
    "\n",
    "cursor.execute(sql)\n",
    "rows = cursor.fetchall()\n",
    "\n",
    "for row in rows:\n",
    "    print(row)"
   ]
  },
  {
   "cell_type": "code",
   "execution_count": null,
   "id": "85ac3db6-7c8b-4751-b4da-1918d03384a0",
   "metadata": {},
   "outputs": [],
   "source": []
  },
  {
   "cell_type": "code",
   "execution_count": 8,
   "id": "e7f500c7-26d2-48b9-81f5-fff39a182343",
   "metadata": {},
   "outputs": [],
   "source": [
    "cursor.close()\n",
    "conn.close()"
   ]
  },
  {
   "cell_type": "code",
   "execution_count": null,
   "id": "1d30e5ce-74ed-4953-94e8-73ff2612d3fc",
   "metadata": {},
   "outputs": [],
   "source": []
  }
 ],
 "metadata": {
  "kernelspec": {
   "display_name": "Python [conda env:base] *",
   "language": "python",
   "name": "conda-base-py"
  },
  "language_info": {
   "codemirror_mode": {
    "name": "ipython",
    "version": 3
   },
   "file_extension": ".py",
   "mimetype": "text/x-python",
   "name": "python",
   "nbconvert_exporter": "python",
   "pygments_lexer": "ipython3",
   "version": "3.12.7"
  }
 },
 "nbformat": 4,
 "nbformat_minor": 5
}
