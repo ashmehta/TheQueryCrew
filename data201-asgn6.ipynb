{
 "cells": [
  {
   "cell_type": "code",
   "execution_count": 29,
   "id": "a9f3ed0a-e871-447c-91b6-d377edac7d0e",
   "metadata": {},
   "outputs": [],
   "source": [
    "import csv\n",
    "import pandas as pd\n",
    "from sqlalchemy import create_engine, text"
   ]
  },
  {
   "cell_type": "code",
   "execution_count": 31,
   "id": "bfecad47-2926-4442-b862-b15c2a94385f",
   "metadata": {},
   "outputs": [],
   "source": [
    "from mysql.connector import MySQLConnection, Error"
   ]
  },
  {
   "cell_type": "code",
   "execution_count": 33,
   "id": "a14eee0b-dca8-4b73-a41a-238bf750bc3a",
   "metadata": {},
   "outputs": [],
   "source": [
    "# Making connection to SQL server\n",
    "def make_connection():\n",
    "    try:\n",
    "        conn = MySQLConnection(host='IES-ADS-ClassDB.sjsu.edu',\n",
    "                               database='querycrew_db',\n",
    "                               user='querycrew_user',\n",
    "                               password='Pomegranate_746')\n",
    "        \n",
    "        if conn.is_connected():\n",
    "            print('Connected to the MySQL database!')\n",
    "            \n",
    "            return conn\n",
    "                \n",
    "    except Error as e:\n",
    "        print('Connection failed.')\n",
    "        print(e)\n",
    "        \n",
    "        return None"
   ]
  },
  {
   "cell_type": "code",
   "execution_count": 35,
   "id": "15b2d222-f93a-4309-b31e-219f7c62c635",
   "metadata": {},
   "outputs": [
    {
     "name": "stdout",
     "output_type": "stream",
     "text": [
      "Connected to the MySQL database!\n"
     ]
    }
   ],
   "source": [
    "conn = make_connection()\n",
    "cursor = conn.cursor()"
   ]
  },
  {
   "cell_type": "markdown",
   "id": "17b942d7-d1b7-4cd0-83e1-c56264854d06",
   "metadata": {},
   "source": [
    "We are going to make the view and use a join and display the contents of the view."
   ]
  },
  {
   "cell_type": "code",
   "execution_count": 38,
   "id": "7f48cefb-b3b1-4d48-b50e-ee40f6f81131",
   "metadata": {},
   "outputs": [
    {
     "name": "stdout",
     "output_type": "stream",
     "text": [
      "Created the view using a joins and displaying the contents.\n",
      "\n",
      "                 vin        make    model price_category\n",
      "0  1HGCM82633A123456      Toyota  Corolla            Low\n",
      "1  1HGCM82633A654321       Honda    Civic            Mid\n",
      "2  2FMDK49C59B123456        Ford   Escape            Low\n",
      "3  3VW2K7AJ5JM123456  Volkswagen    Jetta            Low\n",
      "4  4T1BE46K67U123456       Lexus   RX 350            Mid\n",
      "5  5YJSA1E26HF123456       Tesla  Model S           High\n"
     ]
    }
   ],
   "source": [
    "cursor.execute(\"DROP VIEW IF EXISTS vehicle_info\")\n",
    "\n",
    "view_sql = (\n",
    "    \"\"\"\n",
    "    CREATE VIEW vehicle_info AS\n",
    "    SELECT v.vin, v.make, v.model, vf.price_category \n",
    "    FROM vehicle v\n",
    "    LEFT JOIN vehicle_transformed vf on v.vin = vf.vin;\n",
    "    \"\"\"\n",
    ")\n",
    "\n",
    "cursor.execute(view_sql)\n",
    "conn.commit()\n",
    "\n",
    "query_view = \"SELECT * FROM vehicle_info\"\n",
    "cursor.execute(query_view)\n",
    "rows = cursor.fetchall()\n",
    "columns = [desc[0] for desc in cursor.description]\n",
    "df_view = pd.DataFrame(rows, columns=columns)\n",
    "\n",
    "print(\"Created the view using a joins and displaying the contents.\")\n",
    "print()\n",
    "print(df_view)"
   ]
  },
  {
   "cell_type": "markdown",
   "id": "cc8e1482-b412-4c41-9e2a-a16dee945478",
   "metadata": {},
   "source": [
    "We are now going to rewrite the view as a CTE and make it part of a SELECT statement. We will display the results of the query."
   ]
  },
  {
   "cell_type": "code",
   "execution_count": 40,
   "id": "4be49e53-7b56-4e44-8e9b-e6f4fd16249f",
   "metadata": {},
   "outputs": [
    {
     "name": "stdout",
     "output_type": "stream",
     "text": [
      "Results:\n",
      "         Make    Model price_category\n",
      "0        Ford   Escape            Low\n",
      "1       Honda    Civic            Mid\n",
      "2       Lexus   RX 350            Mid\n",
      "3       Tesla  Model S           High\n",
      "4      Toyota  Corolla            Low\n",
      "5  Volkswagen    Jetta            Low\n",
      "\n",
      "Connection is Closed!\n"
     ]
    }
   ],
   "source": [
    "query_cte = \"\"\"\n",
    "    WITH vehicle_info_cte AS (\n",
    "        SELECT v.vin, v.make, v.model, vf.price_category \n",
    "        FROM vehicle v\n",
    "        LEFT JOIN vehicle_transformed vf ON v.vin = vf.vin\n",
    "    )\n",
    "\n",
    "    SELECT vi.make AS Make, vi.model as Model, vi.price_category\n",
    "    FROM vehicle_info_cte vi\n",
    "    ORDER BY vi.make;\n",
    "\"\"\"\n",
    "\n",
    "cursor.execute(query_cte)\n",
    "rows = cursor.fetchall()\n",
    "\n",
    "columns = [desc[0] for desc in cursor.description]\n",
    "\n",
    "df_cte = pd.DataFrame(rows, columns=columns)\n",
    "\n",
    "# Display the results\n",
    "print(\"Results:\")\n",
    "print(df_cte)\n",
    "\n",
    "\n",
    "cursor.close()\n",
    "conn.close()\n",
    "\n",
    "print(\"\\nConnection is Closed!\")"
   ]
  }
 ],
 "metadata": {
  "kernelspec": {
   "display_name": "Python [conda env:base] *",
   "language": "python",
   "name": "conda-base-py"
  },
  "language_info": {
   "codemirror_mode": {
    "name": "ipython",
    "version": 3
   },
   "file_extension": ".py",
   "mimetype": "text/x-python",
   "name": "python",
   "nbconvert_exporter": "python",
   "pygments_lexer": "ipython3",
   "version": "3.12.7"
  }
 },
 "nbformat": 4,
 "nbformat_minor": 5
}
