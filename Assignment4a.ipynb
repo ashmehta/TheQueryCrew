{
 "cells": [
  {
   "cell_type": "code",
   "execution_count": 26,
   "metadata": {},
   "outputs": [],
   "source": [
    "import sqlite3\n",
    "import configparser\n",
    "from sqlalchemy import create_engine, text \n",
    "import pandas as pd\n"
   ]
  },
  {
   "cell_type": "code",
   "execution_count": 37,
   "metadata": {},
   "outputs": [],
   "source": [
    "from mysql.connector import MySQLConnection, Error\n",
    "\n",
    "# Making connection to SQL server\n",
    "def make_connection():\n",
    "    try:\n",
    "        conn = MySQLConnection(host='IES-ADS-ClassDB.sjsu.edu',\n",
    "                               database='querycrew_db',\n",
    "                               user='querycrew_user',\n",
    "                               password='Pomegranate_746')\n",
    "        \n",
    "        if conn.is_connected():\n",
    "            print('Connected to the MySQL database!')\n",
    "            \n",
    "            return conn\n",
    "                \n",
    "    except Error as e:\n",
    "        print('Connection failed.')\n",
    "        print(e)\n",
    "        \n",
    "        return None"
   ]
  },
  {
   "cell_type": "code",
   "execution_count": 38,
   "metadata": {},
   "outputs": [
    {
     "name": "stdout",
     "output_type": "stream",
     "text": [
      "Connected to the MySQL database!\n"
     ]
    }
   ],
   "source": [
    "conn = make_connection()\n",
    "cursor = conn.cursor()"
   ]
  },
  {
   "cell_type": "code",
   "execution_count": 43,
   "metadata": {},
   "outputs": [
    {
     "name": "stdout",
     "output_type": "stream",
     "text": [
      "All tables dropped successfully!\n"
     ]
    }
   ],
   "source": [
    "cursor.execute(\"DROP TABLE IF EXISTS Driver;\")\n",
    "cursor.execute(\"DROP TABLE IF EXISTS location;\")\n",
    "cursor.execute(\"DROP TABLE IF EXISTS Vehicle;\")\n",
    "cursor.execute(\"DROP TABLE IF EXISTS vehicle_inspection\")\n",
    "cursor.execute(\"DROP TABLE IF EXISTS station;\")\n",
    "cursor.execute(\"DROP TABLE IF EXISTS county;\")\n",
    "cursor.execute(\"DROP TABLE IF EXISTS IsLocatedIn;\") \n",
    "\n",
    "conn.commit()\n",
    "print(\"All tables dropped successfully!\")"
   ]
  },
  {
   "cell_type": "code",
   "execution_count": 44,
   "metadata": {},
   "outputs": [],
   "source": [
    "# Create the tables\n",
    "cursor.execute('''\n",
    "CREATE TABLE IF NOT EXISTS county\n",
    "(\n",
    "  county_name INT NOT NULL,\n",
    "  county_id INT NOT NULL,\n",
    "  PRIMARY KEY (county_id)\n",
    ");\n",
    "''')\n",
    "\n",
    "cursor.execute('''\n",
    "CREATE TABLE IF NOT EXISTS station\n",
    "(\n",
    "  station_id INT NOT NULL,\n",
    "  station_name INT NOT NULL,\n",
    "  PRIMARY KEY (station_id)\n",
    ");\n",
    "''')\n",
    "\n",
    "cursor.execute('''\n",
    "CREATE TABLE IF NOT EXISTS vehicle_inspection\n",
    "(\n",
    "  inspection_id INT NOT NULL,\n",
    "  date INT NOT NULL,\n",
    "  status INT NOT NULL,\n",
    "  station_id INT NOT NULL,\n",
    "  PRIMARY KEY (inspection_id),\n",
    "  FOREIGN KEY (station_id) REFERENCES station(station_id)\n",
    ");\n",
    "''')\n",
    "\n",
    "cursor.execute('''\n",
    "CREATE TABLE IF NOT EXISTS Vehicle\n",
    "(\n",
    "  model_year INT NOT NULL,\n",
    "  base_msrp INT,\n",
    "  vin INT NOT NULL,\n",
    "  make INT NOT NULL,\n",
    "  model INT NOT NULL,\n",
    "  inspection_id INT NOT NULL,\n",
    "  PRIMARY KEY (vin),\n",
    "  FOREIGN KEY (inspection_id) REFERENCES vehicle_inspection(inspection_id)\n",
    ");\n",
    "''')\n",
    "\n",
    "cursor.execute('''\n",
    "CREATE TABLE IF NOT EXISTS location\n",
    "(\n",
    "  zip_code INT NOT NULL,\n",
    "  city INT NOT NULL,\n",
    "  State INT NOT NULL,\n",
    "  DOL_ID INT NOT NULL,\n",
    "  vin INT NOT NULL,\n",
    "  station_id INT NOT NULL,\n",
    "  county_id INT NOT NULL,\n",
    "  PRIMARY KEY (DOL_ID),\n",
    "  FOREIGN KEY (vin) REFERENCES Vehicle(vin),\n",
    "  FOREIGN KEY (station_id) REFERENCES station(station_id),\n",
    "  FOREIGN KEY (county_id) REFERENCES county(county_id)\n",
    ");\n",
    "''')\n",
    "\n",
    "cursor.execute('''\n",
    "CREATE TABLE IF NOT EXISTS Driver\n",
    "(\n",
    "  first INT NOT NULL,\n",
    "  last INT NOT NULL,\n",
    "  email INT NOT NULL,\n",
    "  vin INT NOT NULL,\n",
    "  PRIMARY KEY (email),\n",
    "  FOREIGN KEY (vin) REFERENCES Vehicle(vin)\n",
    ");\n",
    "''')\n"
   ]
  },
  {
   "cell_type": "code",
   "execution_count": 45,
   "metadata": {},
   "outputs": [],
   "source": [
    "# Insert example data into the station table\n",
    "cursor.execute(\"INSERT INTO station (station_id, station_name) VALUES (1, 101)\")\n",
    "cursor.execute(\"INSERT INTO station (station_id, station_name) VALUES (2, 102)\")\n",
    "cursor.execute(\"INSERT INTO station (station_id, station_name) VALUES (3, 103)\")\n",
    "cursor.execute(\"INSERT INTO station (station_id, station_name) VALUES (4, 104)\")\n",
    "cursor.execute(\"INSERT INTO station (station_id, station_name) VALUES (5, 105)\")\n",
    "\n",
    "# Insert example data into the vehicle_inspection table\n",
    "cursor.execute(\"INSERT INTO vehicle_inspection (inspection_id, date, status, station_id) VALUES (1, 20230101, 1, 1)\")\n",
    "cursor.execute(\"INSERT INTO vehicle_inspection (inspection_id, date, status, station_id) VALUES (2, 20230102, 0, 2)\")\n",
    "cursor.execute(\"INSERT INTO vehicle_inspection (inspection_id, date, status, station_id) VALUES (3, 20230103, 1, 3)\")\n",
    "cursor.execute(\"INSERT INTO vehicle_inspection (inspection_id, date, status, station_id) VALUES (4, 20230104, 0, 4)\")\n",
    "cursor.execute(\"INSERT INTO vehicle_inspection (inspection_id, date, status, station_id) VALUES (5, 20230105, 1, 5)\")\n",
    "\n",
    "# Insert example data into the Vehicle table\n",
    "cursor.execute(\"INSERT INTO Vehicle (model_year, base_msrp, vin, make, model, inspection_id) VALUES (2020, 30000, 12345, 1, 1, 1)\")\n",
    "cursor.execute(\"INSERT INTO Vehicle (model_year, base_msrp, vin, make, model, inspection_id) VALUES (2019, 25000, 12346, 2, 2, 2)\")\n",
    "cursor.execute(\"INSERT INTO Vehicle (model_year, base_msrp, vin, make, model, inspection_id) VALUES (2021, 35000, 12347, 3, 3, 3)\")\n",
    "cursor.execute(\"INSERT INTO Vehicle (model_year, base_msrp, vin, make, model, inspection_id) VALUES (2018, 20000, 12348, 4, 4, 4)\")\n",
    "cursor.execute(\"INSERT INTO Vehicle (model_year, base_msrp, vin, make, model, inspection_id) VALUES (2022, 40000, 12349, 5, 5, 5)\")\n",
    "\n",
    "# Add a named foreign key constraint using ALTER TABLE\n",
    "cursor.execute('''\n",
    "ALTER TABLE Vehicle\n",
    "ADD CONSTRAINT fk_inspection\n",
    "FOREIGN KEY (inspection_id)\n",
    "REFERENCES vehicle_inspection(inspection_id);\n",
    "''')\n",
    "\n",
    "# Commit the changes\n",
    "conn.commit()\n"
   ]
  },
  {
   "cell_type": "code",
   "execution_count": 46,
   "metadata": {},
   "outputs": [
    {
     "name": "stdout",
     "output_type": "stream",
     "text": [
      "Vehicle Inspection Table:\n",
      "   inspection_id      date  status  station_id\n",
      "0              1  20230101       1           1\n",
      "1              2  20230102       0           2\n",
      "2              3  20230103       1           3\n",
      "3              4  20230104       0           4\n",
      "4              5  20230105       1           5\n",
      "\n",
      "Vehicle Table:\n",
      "   model_year  base_msrp    vin  make  model  inspection_id\n",
      "0        2020      30000  12345     1      1              1\n",
      "1        2019      25000  12346     2      2              2\n",
      "2        2021      35000  12347     3      3              3\n",
      "3        2018      20000  12348     4      4              4\n",
      "4        2022      40000  12349     5      5              5\n"
     ]
    },
    {
     "name": "stderr",
     "output_type": "stream",
     "text": [
      "/var/folders/19/_djhhd2d4j1drxs9ryt60rtm0000gn/T/ipykernel_65550/3468094508.py:2: UserWarning: pandas only supports SQLAlchemy connectable (engine/connection) or database string URI or sqlite3 DBAPI2 connection. Other DBAPI2 objects are not tested. Please consider using SQLAlchemy.\n",
      "  vehicle_inspection_df = pd.read_sql_query(\"SELECT * FROM vehicle_inspection\", conn)\n",
      "/var/folders/19/_djhhd2d4j1drxs9ryt60rtm0000gn/T/ipykernel_65550/3468094508.py:3: UserWarning: pandas only supports SQLAlchemy connectable (engine/connection) or database string URI or sqlite3 DBAPI2 connection. Other DBAPI2 objects are not tested. Please consider using SQLAlchemy.\n",
      "  vehicle_df = pd.read_sql_query(\"SELECT * FROM Vehicle\", conn)\n"
     ]
    }
   ],
   "source": [
    "# Query the tables and display the results in dataframes\n",
    "vehicle_inspection_df = pd.read_sql_query(\"SELECT * FROM vehicle_inspection\", conn)\n",
    "vehicle_df = pd.read_sql_query(\"SELECT * FROM Vehicle\", conn)\n",
    "\n",
    "print(\"Vehicle Inspection Table:\")\n",
    "print(vehicle_inspection_df)\n",
    "\n",
    "print(\"\\nVehicle Table:\")\n",
    "print(vehicle_df)\n",
    "\n",
    "# Close the connection\n",
    "conn.close()"
   ]
  },
  {
   "cell_type": "code",
   "execution_count": null,
   "metadata": {},
   "outputs": [],
   "source": []
  }
 ],
 "metadata": {
  "kernelspec": {
   "display_name": "Python 3",
   "language": "python",
   "name": "python3"
  },
  "language_info": {
   "codemirror_mode": {
    "name": "ipython",
    "version": 3
   },
   "file_extension": ".py",
   "mimetype": "text/x-python",
   "name": "python",
   "nbconvert_exporter": "python",
   "pygments_lexer": "ipython3",
   "version": "3.9.6"
  }
 },
 "nbformat": 4,
 "nbformat_minor": 2
}
