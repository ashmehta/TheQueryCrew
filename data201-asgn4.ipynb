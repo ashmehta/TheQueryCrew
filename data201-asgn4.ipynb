{
 "cells": [
  {
   "cell_type": "code",
   "execution_count": 115,
   "id": "fd0ea035-7e92-413a-9d01-f860db5fa722",
   "metadata": {},
   "outputs": [],
   "source": [
    "import csv\n",
    "import pandas as pd\n",
    "from sqlalchemy import create_engine, text"
   ]
  },
  {
   "cell_type": "code",
   "execution_count": 117,
   "id": "a2f7b9d8-4fe5-4341-8991-aeb1a5503684",
   "metadata": {},
   "outputs": [],
   "source": [
    "from mysql.connector import MySQLConnection, Error"
   ]
  },
  {
   "cell_type": "code",
   "execution_count": 119,
   "id": "9f460d89-37bf-4fc1-97e8-522ab0885930",
   "metadata": {},
   "outputs": [],
   "source": [
    "# Making connection to SQL server\n",
    "def make_connection():\n",
    "    try:\n",
    "        conn = MySQLConnection(host='IES-ADS-ClassDB.sjsu.edu',\n",
    "                               database='querycrew_db',\n",
    "                               user='querycrew_user',\n",
    "                               password='Pomegranate_746')\n",
    "        \n",
    "        if conn.is_connected():\n",
    "            print('Connected to the MySQL database!')\n",
    "            \n",
    "            return conn\n",
    "                \n",
    "    except Error as e:\n",
    "        print('Connection failed.')\n",
    "        print(e)\n",
    "        \n",
    "        return None"
   ]
  },
  {
   "cell_type": "code",
   "execution_count": 121,
   "id": "79ddc261-339c-41de-aae6-d97a058f151d",
   "metadata": {},
   "outputs": [
    {
     "name": "stdout",
     "output_type": "stream",
     "text": [
      "Connected to the MySQL database!\n"
     ]
    }
   ],
   "source": [
    "conn = make_connection()\n",
    "cursor = conn.cursor()"
   ]
  },
  {
   "cell_type": "code",
   "execution_count": 123,
   "id": "bdfe205f-1b5b-4dbe-81bc-ef62671f1941",
   "metadata": {},
   "outputs": [
    {
     "name": "stdout",
     "output_type": "stream",
     "text": [
      "All tables dropped successfully!\n"
     ]
    }
   ],
   "source": [
    "# dropping tables in order\n",
    "cursor.execute(\"DROP TABLE IF EXISTS Driver;\")\n",
    "cursor.execute(\"DROP TABLE IF EXISTS location;\")\n",
    "cursor.execute(\"DROP TABLE IF EXISTS Vehicle;\")\n",
    "cursor.execute(\"DROP TABLE IF EXISTS vehicle_inspection\")\n",
    "cursor.execute(\"DROP TABLE IF EXISTS station;\")\n",
    "cursor.execute(\"DROP TABLE IF EXISTS county;\")\n",
    "cursor.execute(\"DROP TABLE IF EXISTS IsLocatedIn;\") \n",
    "\n",
    "conn.commit()\n",
    "print(\"All tables dropped successfully!\")"
   ]
  },
  {
   "cell_type": "code",
   "execution_count": 125,
   "id": "c305273f-51f3-4cdd-be84-947a5298b586",
   "metadata": {},
   "outputs": [
    {
     "name": "stdout",
     "output_type": "stream",
     "text": [
      "County and Station tables are created successfully!\n"
     ]
    }
   ],
   "source": [
    "# Create county table\n",
    "county_table = \"\"\"\n",
    "CREATE TABLE county (\n",
    "  county_id INT NOT NULL,\n",
    "  county_name VARCHAR(255) NOT NULL,\n",
    "  PRIMARY KEY (county_id)\n",
    ");\n",
    "\"\"\"\n",
    "\n",
    "# Create station table\n",
    "station_table = \"\"\"\n",
    "CREATE TABLE station (\n",
    "  station_id INT NOT NULL,\n",
    "  station_name VARCHAR(255) NULL,\n",
    "  PRIMARY KEY (station_id)\n",
    ");\n",
    "\"\"\"\n",
    "\n",
    "# Table creations\n",
    "cursor.execute(county_table)\n",
    "cursor.execute(station_table)\n",
    "\n",
    "conn.commit()\n",
    "print(\"County and Station tables are created successfully!\")"
   ]
  },
  {
   "cell_type": "code",
   "execution_count": 127,
   "id": "6c221ee1-2d1e-4964-b8ba-dfc1bf4adcaa",
   "metadata": {},
   "outputs": [
    {
     "name": "stdout",
     "output_type": "stream",
     "text": [
      "Inserted sample data in county and station successfully!\n"
     ]
    }
   ],
   "source": [
    "# Inserting 5 rows of sample data in county and station tables\n",
    "insert_into_county = \"\"\"\n",
    "INSERT INTO county (county_id, county_name) VALUES (1, 'Marin'), (2, 'Contra Costa'), (3, 'Alameda'), (4, 'Solano'), (5, 'San Mateo');\n",
    "\"\"\"\n",
    "\n",
    "# Insert data into station\n",
    "insert_into_station = \"\"\"\n",
    "INSERT INTO station (station_id, station_name) VALUES \n",
    "(101, 'Marin Motors'), \n",
    "(102, 'Contra Costa Auto Service'), \n",
    "(103, 'Alameda Auto Lab'), \n",
    "(104, 'Solano Way Auto Repair'), \n",
    "(105, 'San Mateo Automotive Service');\n",
    "\"\"\"\n",
    "\n",
    "cursor.execute(insert_into_county)\n",
    "cursor.execute(insert_into_station)\n",
    "\n",
    "conn.commit()\n",
    "\n",
    "print(\"Inserted sample data in county and station successfully!\")"
   ]
  },
  {
   "cell_type": "code",
   "execution_count": 129,
   "id": "cc1e6c6a-97e3-4c10-9c60-1cbc2fed6d64",
   "metadata": {},
   "outputs": [
    {
     "name": "stdout",
     "output_type": "stream",
     "text": [
      "County Table:\n",
      "   county_id   county_name\n",
      "0          1         Marin\n",
      "1          2  Contra Costa\n",
      "2          3       Alameda\n",
      "3          4        Solano\n",
      "4          5     San Mateo\n",
      "\n",
      "Station Table:\n",
      "   station_id                  station_name\n",
      "0         101                  Marin Motors\n",
      "1         102     Contra Costa Auto Service\n",
      "2         103              Alameda Auto Lab\n",
      "3         104        Solano Way Auto Repair\n",
      "4         105  San Mateo Automotive Service\n",
      "Connection closed.\n"
     ]
    },
    {
     "name": "stderr",
     "output_type": "stream",
     "text": [
      "/var/folders/5_/q2__r0d15kxg6gnyjbyvzt3r0000gn/T/ipykernel_29340/3831238746.py:2: UserWarning: pandas only supports SQLAlchemy connectable (engine/connection) or database string URI or sqlite3 DBAPI2 connection. Other DBAPI2 objects are not tested. Please consider using SQLAlchemy.\n",
      "  county_df = pd.read_sql_query(\"SELECT * FROM county\", conn)\n",
      "/var/folders/5_/q2__r0d15kxg6gnyjbyvzt3r0000gn/T/ipykernel_29340/3831238746.py:3: UserWarning: pandas only supports SQLAlchemy connectable (engine/connection) or database string URI or sqlite3 DBAPI2 connection. Other DBAPI2 objects are not tested. Please consider using SQLAlchemy.\n",
      "  station_df = pd.read_sql_query(\"SELECT * FROM station\", conn)\n"
     ]
    }
   ],
   "source": [
    "# Displaying sample data of county and station\n",
    "county_df = pd.read_sql_query(\"SELECT * FROM county\", conn)\n",
    "station_df = pd.read_sql_query(\"SELECT * FROM station\", conn)\n",
    "\n",
    "print(\"County Table:\")\n",
    "print(county_df)\n",
    "\n",
    "print(\"\\nStation Table:\")\n",
    "print(station_df)\n",
    "\n",
    "# Close the connection\n",
    "conn.close()\n",
    "\n",
    "print(\"Connection closed.\")"
   ]
  },
  {
   "cell_type": "code",
   "execution_count": null,
   "id": "9dc1063a-4dd6-4381-aa1a-3c1c32510a46",
   "metadata": {},
   "outputs": [],
   "source": []
  }
 ],
 "metadata": {
  "kernelspec": {
   "display_name": "Python [conda env:base] *",
   "language": "python",
   "name": "conda-base-py"
  },
  "language_info": {
   "codemirror_mode": {
    "name": "ipython",
    "version": 3
   },
   "file_extension": ".py",
   "mimetype": "text/x-python",
   "name": "python",
   "nbconvert_exporter": "python",
   "pygments_lexer": "ipython3",
   "version": "3.12.7"
  }
 },
 "nbformat": 4,
 "nbformat_minor": 5
}
