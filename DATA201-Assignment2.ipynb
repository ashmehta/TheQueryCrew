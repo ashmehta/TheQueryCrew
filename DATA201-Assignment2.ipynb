{
 "cells": [
  {
   "cell_type": "code",
   "execution_count": 85,
   "id": "3ec9b749-a18c-45af-8d5e-66461c87aa38",
   "metadata": {},
   "outputs": [],
   "source": [
    "import pandas as pd\n",
    "import configparser\n",
    "from sqlalchemy import create_engine, text"
   ]
  },
  {
   "cell_type": "code",
   "execution_count": 87,
   "id": "96518ee4-3855-4164-b114-90dd880f76a7",
   "metadata": {},
   "outputs": [],
   "source": [
    "from mysql.connector import MySQLConnection, Error"
   ]
  },
  {
   "cell_type": "code",
   "execution_count": 89,
   "id": "faadde85-73d2-4317-a0ca-fedef5b53b79",
   "metadata": {},
   "outputs": [],
   "source": [
    "#Connecting to the shared SQL Server\n",
    "def make_connection():\n",
    "    try:\n",
    "        conn = MySQLConnection(host='IES-ADS-ClassDB.sjsu.edu',\n",
    "                               database='querycrew_db',\n",
    "                               user='querycrew_user',\n",
    "                               password='Pomegranate_746')\n",
    "        \n",
    "        if conn.is_connected():\n",
    "            print('Connected to the MySQL database!')\n",
    "            \n",
    "            return conn\n",
    "                \n",
    "    except Error as e:\n",
    "        print('Connection failed.')\n",
    "        print(e)\n",
    "        \n",
    "        return None"
   ]
  },
  {
   "cell_type": "code",
   "execution_count": 91,
   "id": "f8563a70-231d-4975-ac00-ecb5aa3c25af",
   "metadata": {},
   "outputs": [
    {
     "name": "stdout",
     "output_type": "stream",
     "text": [
      "Connected to the MySQL database!\n"
     ]
    }
   ],
   "source": [
    "conn = make_connection()\n",
    "cursor = conn.cursor()"
   ]
  },
  {
   "cell_type": "code",
   "execution_count": 93,
   "id": "ed41a1f3-398d-49b3-8bfc-27b929db5657",
   "metadata": {},
   "outputs": [
    {
     "name": "stdout",
     "output_type": "stream",
     "text": [
      "Make and Model Year Data\n",
      "         Make  Model Year\n",
      "0         BMW        2015\n",
      "1   CHEVROLET        2019\n",
      "2        FIAT        2015\n",
      "3     HYUNDAI        2022\n",
      "4        JEEP        2023\n",
      "5         KIA        2024\n",
      "6       LEXUS        2023\n",
      "7       MAZDA        2024\n",
      "8      NISSAN        2017\n",
      "9    POLESTAR        2021\n",
      "10     RIVIAN        2022\n",
      "11      TESLA        2019\n",
      "12     TOYOTA        2018\n",
      "13      VOLVO        2022\n",
      "\n",
      " Make Model Type Data\n",
      "         Make     Model                   Electric Vehicle Type\n",
      "0        JEEP  WRANGLER  Plug-in Hybrid Electric Vehicle (PHEV)\n",
      "1   CHEVROLET   BOLT EV          Battery Electric Vehicle (BEV)\n",
      "2         BMW        I3          Battery Electric Vehicle (BEV)\n",
      "3       TESLA   MODEL 3          Battery Electric Vehicle (BEV)\n",
      "4       TESLA   MODEL S          Battery Electric Vehicle (BEV)\n",
      "5        JEEP  WRANGLER  Plug-in Hybrid Electric Vehicle (PHEV)\n",
      "6         BMW      530E  Plug-in Hybrid Electric Vehicle (PHEV)\n",
      "7       TESLA   MODEL X          Battery Electric Vehicle (BEV)\n",
      "8   CHEVROLET   BOLT EV          Battery Electric Vehicle (BEV)\n",
      "9       TESLA   MODEL 3          Battery Electric Vehicle (BEV)\n",
      "10     NISSAN      LEAF          Battery Electric Vehicle (BEV)\n",
      "11      LEXUS        RZ          Battery Electric Vehicle (BEV)\n",
      "12        KIA       EV6          Battery Electric Vehicle (BEV)\n",
      "13     NISSAN      LEAF          Battery Electric Vehicle (BEV)\n",
      "14     NISSAN      LEAF          Battery Electric Vehicle (BEV)\n",
      "15      TESLA   MODEL S          Battery Electric Vehicle (BEV)\n",
      "16      TESLA   MODEL S          Battery Electric Vehicle (BEV)\n",
      "17   POLESTAR       PS2          Battery Electric Vehicle (BEV)\n",
      "18      TESLA   MODEL S          Battery Electric Vehicle (BEV)\n",
      "19    HYUNDAI  SANTA FE  Plug-in Hybrid Electric Vehicle (PHEV)\n",
      "20        BMW        I3  Plug-in Hybrid Electric Vehicle (PHEV)\n",
      "21      TESLA   MODEL Y          Battery Electric Vehicle (BEV)\n",
      "22      TESLA   MODEL X          Battery Electric Vehicle (BEV)\n",
      "23       JEEP  WRANGLER  Plug-in Hybrid Electric Vehicle (PHEV)\n",
      "24        BMW      330E  Plug-in Hybrid Electric Vehicle (PHEV)\n"
     ]
    }
   ],
   "source": [
    "# Load CSV file\n",
    "csv_file = \"/Users/kaushikhariharan/Desktop/Data201/Assignments/TheQueryCrew/Electric_Vehicle_Population_Data.csv\"\n",
    "df = pd.read_csv(csv_file)\n",
    "\n",
    "# Extracting 50 rows of \"Make\" and \"Model Year\" from CSV (using .loc for label indexing the CSV file)\n",
    "#We only want the UNIQUE values of Make to present the One-to-Many Relationship with the second table.\n",
    "make_and_model_year_data = df.loc[:49, [\"Make\", \"Model Year\"]].groupby(\"Make\").first().reset_index()\n",
    "\n",
    "# Extracting 50 rows of \"Make\", \"Model\", and \"Vehicle Type\" from CSV file.\n",
    "make_model_type_data = df.loc[:49, [\"Make\", \"Model\", \"Electric Vehicle Type\"]]\n",
    "\n",
    "print(\"Make and Model Year Data\")\n",
    "print(make_and_model_year_data.head(25))\n",
    " \n",
    "print(\"\\n Make Model Type Data\")\n",
    "print(make_model_type_data.head(25))"
   ]
  },
  {
   "cell_type": "code",
   "execution_count": 95,
   "id": "6bd1f580-0b88-4bf6-9cea-5dcbf4a4decf",
   "metadata": {},
   "outputs": [
    {
     "name": "stdout",
     "output_type": "stream",
     "text": [
      "Tables created successfully!\n"
     ]
    }
   ],
   "source": [
    "#Drop table if it already exists\n",
    "cursor.execute('DROP TABLE IF EXISTS make_model_year')\n",
    "cursor.execute('DROP TABLE IF EXISTS make_model_type')\n",
    "\n",
    "#Creating the tables to hold make, year, model, and type of vehicles\n",
    "make_model_year = ( \"\"\"\n",
    "        CREATE TABLE make_model_year\n",
    "        (\n",
    "            make       varchar(32),\n",
    "            year      int,\n",
    "            PRIMARY KEY (make)\n",
    "        )\n",
    "        \"\"\"\n",
    "      )\n",
    "make_model_type = ( \"\"\"\n",
    "        CREATE TABLE make_model_type\n",
    "        (\n",
    "            make       varchar(32),\n",
    "            model   varchar(32),\n",
    "            type        varchar(64)\n",
    "        )\n",
    "        \"\"\"\n",
    "      )\n",
    "\n",
    "cursor.execute(make_model_year);\n",
    "cursor.execute(make_model_type);\n",
    "\n",
    "print(\"Tables created successfully!\")"
   ]
  },
  {
   "cell_type": "code",
   "execution_count": 97,
   "id": "b064b654-dccf-4ad4-8e39-06b77ea5da9c",
   "metadata": {},
   "outputs": [
    {
     "name": "stdout",
     "output_type": "stream",
     "text": [
      "Inserted make and model_year data successfully!\n",
      "Inserted make, model, and type successfully!\n"
     ]
    }
   ],
   "source": [
    "#Inserting values into the respective tables\n",
    "sql_insert_make_model_year = (  \n",
    "    \"\"\"\n",
    "    INSERT INTO make_model_year (make, year)\n",
    "    VALUES (%s, %s)\n",
    "    \"\"\"\n",
    ")\n",
    "\n",
    "sql_insert_make_model_type = (  \n",
    "    \"\"\"\n",
    "    INSERT INTO make_model_type (make, model, type)\n",
    "    VALUES (%s, %s, %s)\n",
    "    \"\"\"\n",
    ")\n",
    "\n",
    "#Looping and iterating through the respective DataFrames to insert values into created Databases.\n",
    "for row in make_and_model_year_data.itertuples(index=False, name=None):\n",
    "    cursor.execute(sql_insert_make_model_year, row)\n",
    "print(\"Inserted make and model_year data successfully!\")\n",
    "for row in make_model_type_data.itertuples(index=False, name=None):\n",
    "    cursor.execute(sql_insert_make_model_type, row)\n",
    "print(\"Inserted make, model, and type successfully!\")\n"
   ]
  },
  {
   "cell_type": "code",
   "execution_count": 99,
   "id": "d47faa31-2c48-446e-973b-0b4b184aa20b",
   "metadata": {},
   "outputs": [
    {
     "name": "stdout",
     "output_type": "stream",
     "text": [
      "Make-Model-Year Table\n",
      "('BMW', 2015)\n",
      "('CHEVROLET', 2019)\n",
      "('FIAT', 2015)\n",
      "('HYUNDAI', 2022)\n",
      "('JEEP', 2023)\n",
      "('KIA', 2024)\n",
      "('LEXUS', 2023)\n",
      "('MAZDA', 2024)\n",
      "('NISSAN', 2017)\n",
      "('POLESTAR', 2021)\n",
      "('RIVIAN', 2022)\n",
      "('TESLA', 2019)\n",
      "('TOYOTA', 2018)\n",
      "('VOLVO', 2022)\n",
      "\n",
      "Make-Model-Type Table\n",
      "('JEEP', 'WRANGLER', 'Plug-in Hybrid Electric Vehicle (PHEV)')\n",
      "('CHEVROLET', 'BOLT EV', 'Battery Electric Vehicle (BEV)')\n",
      "('BMW', 'I3', 'Battery Electric Vehicle (BEV)')\n",
      "('TESLA', 'MODEL 3', 'Battery Electric Vehicle (BEV)')\n",
      "('TESLA', 'MODEL S', 'Battery Electric Vehicle (BEV)')\n",
      "('JEEP', 'WRANGLER', 'Plug-in Hybrid Electric Vehicle (PHEV)')\n",
      "('BMW', '530E', 'Plug-in Hybrid Electric Vehicle (PHEV)')\n",
      "('TESLA', 'MODEL X', 'Battery Electric Vehicle (BEV)')\n",
      "('CHEVROLET', 'BOLT EV', 'Battery Electric Vehicle (BEV)')\n",
      "('TESLA', 'MODEL 3', 'Battery Electric Vehicle (BEV)')\n",
      "('NISSAN', 'LEAF', 'Battery Electric Vehicle (BEV)')\n",
      "('LEXUS', 'RZ', 'Battery Electric Vehicle (BEV)')\n",
      "('KIA', 'EV6', 'Battery Electric Vehicle (BEV)')\n",
      "('NISSAN', 'LEAF', 'Battery Electric Vehicle (BEV)')\n",
      "('NISSAN', 'LEAF', 'Battery Electric Vehicle (BEV)')\n",
      "('TESLA', 'MODEL S', 'Battery Electric Vehicle (BEV)')\n",
      "('TESLA', 'MODEL S', 'Battery Electric Vehicle (BEV)')\n",
      "('POLESTAR', 'PS2', 'Battery Electric Vehicle (BEV)')\n",
      "('TESLA', 'MODEL S', 'Battery Electric Vehicle (BEV)')\n",
      "('HYUNDAI', 'SANTA FE', 'Plug-in Hybrid Electric Vehicle (PHEV)')\n",
      "('BMW', 'I3', 'Plug-in Hybrid Electric Vehicle (PHEV)')\n",
      "('TESLA', 'MODEL Y', 'Battery Electric Vehicle (BEV)')\n",
      "('TESLA', 'MODEL X', 'Battery Electric Vehicle (BEV)')\n",
      "('JEEP', 'WRANGLER', 'Plug-in Hybrid Electric Vehicle (PHEV)')\n",
      "('BMW', '330E', 'Plug-in Hybrid Electric Vehicle (PHEV)')\n"
     ]
    }
   ],
   "source": [
    "#Displaying the one-to-many relationship\n",
    "#where one MAKE can have MULTIPLE MODELS\n",
    "\n",
    "print(\"Make-Model-Year Table\")\n",
    "sql_make_model_year = (\n",
    "    \"\"\"\n",
    "    SELECT * FROM make_model_year LIMIT 25;\n",
    "    \"\"\"\n",
    ")\n",
    "cursor.execute(sql_make_model_year)\n",
    "result_data = cursor.fetchall()\n",
    "for r in result_data:\n",
    "    print(r)\n",
    "\n",
    "print(\"\\nMake-Model-Type Table\")\n",
    "sql_make_model_type = (\n",
    "    \"\"\"\n",
    "    SELECT * FROM make_model_type LIMIT 25;\n",
    "    \"\"\"\n",
    ")\n",
    "cursor.execute(sql_make_model_type)\n",
    "result_data_2 = cursor.fetchall()\n",
    "for r2 in result_data_2:\n",
    "    print(r2)\n"
   ]
  },
  {
   "cell_type": "code",
   "execution_count": null,
   "id": "7cad109d-8918-4f01-8c97-2bb89f19e7a4",
   "metadata": {},
   "outputs": [],
   "source": []
  }
 ],
 "metadata": {
  "kernelspec": {
   "display_name": "Python [conda env:base] *",
   "language": "python",
   "name": "conda-base-py"
  },
  "language_info": {
   "codemirror_mode": {
    "name": "ipython",
    "version": 3
   },
   "file_extension": ".py",
   "mimetype": "text/x-python",
   "name": "python",
   "nbconvert_exporter": "python",
   "pygments_lexer": "ipython3",
   "version": "3.12.7"
  }
 },
 "nbformat": 4,
 "nbformat_minor": 5
}
